{
  "nbformat": 4,
  "nbformat_minor": 0,
  "metadata": {
    "colab": {
      "name": "DGKPAssignment.ipynb",
      "provenance": [],
      "collapsed_sections": []
    },
    "kernelspec": {
      "name": "python3",
      "display_name": "Python 3"
    },
    "language_info": {
      "name": "python"
    }
  },
  "cells": [
    {
      "cell_type": "markdown",
      "source": [
        "# Section 1- and SPARK **Setup**"
      ],
      "metadata": {
        "id": "I5l-2fAUeXmJ"
      }
    },
    {
      "cell_type": "code",
      "execution_count": 1,
      "metadata": {
        "id": "soSbOPom5v-M"
      },
      "outputs": [],
      "source": [
        "!apt-get install openjdk-8-jdk-headless -qq > /dev/null"
      ]
    },
    {
      "cell_type": "code",
      "source": [
        "!wget -q https://archive.apache.org/dist/spark/spark-3.1.2/spark-3.1.2-bin-hadoop2.7.tgz"
      ],
      "metadata": {
        "id": "ySWbZofP6EWH"
      },
      "execution_count": 2,
      "outputs": []
    },
    {
      "cell_type": "code",
      "source": [
        "!tar xf spark-3.1.2-bin-hadoop2.7.tgz"
      ],
      "metadata": {
        "id": "rPRJ6x2G6YiN"
      },
      "execution_count": 3,
      "outputs": []
    },
    {
      "cell_type": "code",
      "source": [
        "import os\n",
        "os.environ[\"JAVA_HOME\"] = \"/usr/lib/jvm/java-8-openjdk-amd64\"\n",
        "os.environ[\"SPARK_HOME\"] = \"/content/spark-3.1.2-bin-hadoop2.7\""
      ],
      "metadata": {
        "id": "piYGZ_mj6jJv"
      },
      "execution_count": 4,
      "outputs": []
    },
    {
      "cell_type": "code",
      "source": [
        "!pip install -q findspark\n",
        "import findspark\n",
        "findspark.init()"
      ],
      "metadata": {
        "id": "XhtZhjYX6pho"
      },
      "execution_count": 5,
      "outputs": []
    },
    {
      "cell_type": "code",
      "source": [
        "from pyspark.sql import SparkSession\n",
        "spark = (SparkSession\n",
        ".builder\n",
        ".appName(\"DGAssignmentKP\")\n",
        ".getOrCreate())"
      ],
      "metadata": {
        "id": "OzU9xZbR6tTQ"
      },
      "execution_count": 6,
      "outputs": []
    },
    {
      "cell_type": "markdown",
      "source": [
        "## Reading Our Data"
      ],
      "metadata": {
        "id": "-PkjCFoRejgy"
      }
    },
    {
      "cell_type": "code",
      "source": [
        "df_iplbbb = spark.read.format(\"csv\").option('header', \"true\").load(\"/content/drive/MyDrive/Colab-Data/ipl_ball_by_ball.csv\")\n",
        "df_iplmat = spark.read.format(\"csv\").option('header', \"true\").load(\"/content/drive/MyDrive/Colab-Data/ipl_matches.csv\")\n",
        "df_iplven = spark.read.format(\"csv\").option('header', \"true\").load(\"/content/drive/MyDrive/Colab-Data/ipl_venue.csv\")"
      ],
      "metadata": {
        "id": "pAbWsLxL6w7l"
      },
      "execution_count": 7,
      "outputs": []
    },
    {
      "cell_type": "code",
      "source": [
        "df_iplmat.show(), df_iplmat.count()"
      ],
      "metadata": {
        "colab": {
          "base_uri": "https://localhost:8080/"
        },
        "id": "pIY4uO5L7AEH",
        "outputId": "8d11fc82-37af-4e18-d08f-66db8a80bac0"
      },
      "execution_count": 8,
      "outputs": [
        {
          "output_type": "stream",
          "name": "stdout",
          "text": [
            "+--------+----------+---------------+--------+-------------+--------------------+--------------------+--------------------+-------------+--------------------+-------+-------------+----------+------+-----------+--------------+\n",
            "|match_id|      date|player_of_match|venue_id|neutral_venue|               team1|               team2|         toss_winner|toss_decision|              winner| result|result_margin|eliminator|method|    umpire1|       umpire2|\n",
            "+--------+----------+---------------+--------+-------------+--------------------+--------------------+--------------------+-------------+--------------------+-------+-------------+----------+------+-----------+--------------+\n",
            "|  335982|2008-04-18|    BB McCullum|      35|            0|Royal Challengers...|Kolkata Knight Ri...|Royal Challengers...|        field|Kolkata Knight Ri...|   runs|          140|         N|    NA|  Asad Rauf|   RE Koertzen|\n",
            "|  335983|2008-04-19|     MEK Hussey|      31|            0|     Kings XI Punjab| Chennai Super Kings| Chennai Super Kings|          bat| Chennai Super Kings|   runs|           33|         N|    NA|  MR Benson|    SL Shastri|\n",
            "|  335984|2008-04-19|    MF Maharoof|      27|            0|    Delhi Daredevils|    Rajasthan Royals|    Rajasthan Royals|          bat|    Delhi Daredevils|wickets|            9|         N|    NA|  Aleem Dar|GA Pratapkumar|\n",
            "|  335985|2008-04-20|     MV Boucher|      14|            0|      Mumbai Indians|Royal Challengers...|      Mumbai Indians|          bat|Royal Challengers...|wickets|            5|         N|    NA|   SJ Davis|     DJ Harper|\n",
            "|  335986|2008-04-20|      DJ Hussey|      15|            0|Kolkata Knight Ri...|     Deccan Chargers|     Deccan Chargers|          bat|Kolkata Knight Ri...|wickets|            5|         N|    NA|  BF Bowden|   K Hariharan|\n",
            "|  335987|2008-04-21|      SR Watson|      20|            0|    Rajasthan Royals|     Kings XI Punjab|     Kings XI Punjab|          bat|    Rajasthan Royals|wickets|            6|         N|    NA|  Aleem Dar|     RB Tiffin|\n",
            "|  335988|2008-04-22|       V Sehwag|      22|            0|     Deccan Chargers|    Delhi Daredevils|     Deccan Chargers|          bat|    Delhi Daredevils|wickets|            9|         N|    NA|  IL Howell|     AM Saheba|\n",
            "|  335989|2008-04-23|      ML Hayden|      29|            0| Chennai Super Kings|      Mumbai Indians|      Mumbai Indians|        field| Chennai Super Kings|   runs|            6|         N|    NA|  DJ Harper|GA Pratapkumar|\n",
            "|  335990|2008-04-24|      YK Pathan|      22|            0|     Deccan Chargers|    Rajasthan Royals|    Rajasthan Royals|        field|    Rajasthan Royals|wickets|            3|         N|    NA|  Asad Rauf|     MR Benson|\n",
            "|  335991|2008-04-25|  KC Sangakkara|      31|            0|     Kings XI Punjab|      Mumbai Indians|      Mumbai Indians|        field|     Kings XI Punjab|   runs|           66|         N|    NA|  Aleem Dar|     AM Saheba|\n",
            "|  335992|2008-04-26|      SR Watson|      35|            0|Royal Challengers...|    Rajasthan Royals|    Rajasthan Royals|        field|    Rajasthan Royals|wickets|            7|         N|    NA|  MR Benson|     IL Howell|\n",
            "|  335993|2008-04-26|       JDP Oram|      29|            0| Chennai Super Kings|Kolkata Knight Ri...|Kolkata Knight Ri...|          bat| Chennai Super Kings|wickets|            9|         N|    NA|  BF Bowden|AV Jayaprakash|\n",
            "|  335994|2008-04-27|   AC Gilchrist|      13|            0|      Mumbai Indians|     Deccan Chargers|     Deccan Chargers|        field|     Deccan Chargers|wickets|           10|         N|    NA|  Asad Rauf|    SL Shastri|\n",
            "|  335995|2008-04-27|      SM Katich|      31|            0|     Kings XI Punjab|    Delhi Daredevils|    Delhi Daredevils|          bat|     Kings XI Punjab|wickets|            4|         N|    NA|RE Koertzen|     I Shivram|\n",
            "|  335996|2008-04-28|       MS Dhoni|      35|            0|Royal Challengers...| Chennai Super Kings| Chennai Super Kings|          bat| Chennai Super Kings|   runs|           13|         N|    NA|BR Doctrove|     RB Tiffin|\n",
            "|  335997|2008-04-29|  ST Jayasuriya|      15|            0|Kolkata Knight Ri...|      Mumbai Indians|Kolkata Knight Ri...|          bat|      Mumbai Indians|wickets|            7|         N|    NA|  BF Bowden|AV Jayaprakash|\n",
            "|  335998|2008-04-30|     GD McGrath|      27|            0|    Delhi Daredevils|Royal Challengers...|Royal Challengers...|        field|    Delhi Daredevils|   runs|           10|         N|    NA|  Aleem Dar|     I Shivram|\n",
            "|  335999|2008-05-01|       SE Marsh|      22|            0|     Deccan Chargers|     Kings XI Punjab|     Kings XI Punjab|        field|     Kings XI Punjab|wickets|            7|         N|    NA|BR Doctrove|     RB Tiffin|\n",
            "|  336000|2008-05-01|    SA Asnodkar|      20|            0|    Rajasthan Royals|Kolkata Knight Ri...|    Rajasthan Royals|          bat|    Rajasthan Royals|   runs|           45|         N|    NA|RE Koertzen|GA Pratapkumar|\n",
            "|  336001|2008-05-02|       V Sehwag|      29|            0| Chennai Super Kings|    Delhi Daredevils| Chennai Super Kings|          bat|    Delhi Daredevils|wickets|            8|         N|    NA|  BF Bowden|   K Hariharan|\n",
            "+--------+----------+---------------+--------+-------------+--------------------+--------------------+--------------------+-------------+--------------------+-------+-------------+----------+------+-----------+--------------+\n",
            "only showing top 20 rows\n",
            "\n"
          ]
        },
        {
          "output_type": "execute_result",
          "data": {
            "text/plain": [
              "(None, 816)"
            ]
          },
          "metadata": {},
          "execution_count": 8
        }
      ]
    },
    {
      "cell_type": "code",
      "source": [
        "df_iplmat.dtypes"
      ],
      "metadata": {
        "colab": {
          "base_uri": "https://localhost:8080/"
        },
        "id": "FAo0c4kPBQsA",
        "outputId": "3ba0c226-577f-4f9b-d94a-5a17c49bfac9"
      },
      "execution_count": 9,
      "outputs": [
        {
          "output_type": "execute_result",
          "data": {
            "text/plain": [
              "[('match_id', 'string'),\n",
              " ('date', 'string'),\n",
              " ('player_of_match', 'string'),\n",
              " ('venue_id', 'string'),\n",
              " ('neutral_venue', 'string'),\n",
              " ('team1', 'string'),\n",
              " ('team2', 'string'),\n",
              " ('toss_winner', 'string'),\n",
              " ('toss_decision', 'string'),\n",
              " ('winner', 'string'),\n",
              " ('result', 'string'),\n",
              " ('result_margin', 'string'),\n",
              " ('eliminator', 'string'),\n",
              " ('method', 'string'),\n",
              " ('umpire1', 'string'),\n",
              " ('umpire2', 'string')]"
            ]
          },
          "metadata": {},
          "execution_count": 9
        }
      ]
    },
    {
      "cell_type": "code",
      "source": [
        "df_iplven.show()"
      ],
      "metadata": {
        "colab": {
          "base_uri": "https://localhost:8080/"
        },
        "id": "A_31egIy7pzl",
        "outputId": "522b168e-f962-4af1-869b-88f26716c137"
      },
      "execution_count": 10,
      "outputs": [
        {
          "output_type": "stream",
          "name": "stdout",
          "text": [
            "+--------+--------------------+--------------+\n",
            "|venue_id|               venue|          city|\n",
            "+--------+--------------------+--------------+\n",
            "|       1|Dr. Y.S. Rajasekh...| Visakhapatnam|\n",
            "|       2|Sharjah Cricket S...|       Sharjah|\n",
            "|       3|JSCA Internationa...|        Ranchi|\n",
            "|       4|Saurashtra Cricke...|        Rajkot|\n",
            "|       5|Shaheed Veer Nara...|        Raipur|\n",
            "|       6|Maharashtra Crick...|          Pune|\n",
            "|       7|Subrata Roy Sahar...|          Pune|\n",
            "|       8|    St George's Park|Port Elizabeth|\n",
            "|       9|Vidarbha Cricket ...|        Nagpur|\n",
            "|      12|   Brabourne Stadium|        Mumbai|\n",
            "|      13|Dr DY Patil Sport...|        Mumbai|\n",
            "|      14|    Wankhede Stadium|        Mumbai|\n",
            "|      15|        Eden Gardens|       Kolkata|\n",
            "|      16|       Nehru Stadium|         Kochi|\n",
            "|      17|De Beers Diamond ...|     Kimberley|\n",
            "|      18|          Green Park|        Kanpur|\n",
            "|      19|New Wanderers Sta...|  Johannesburg|\n",
            "|      20|Sawai Mansingh St...|        Jaipur|\n",
            "|      21|Holkar Cricket St...|        Indore|\n",
            "|      22|Rajiv Gandhi Inte...|     Hyderabad|\n",
            "+--------+--------------------+--------------+\n",
            "only showing top 20 rows\n",
            "\n"
          ]
        }
      ]
    },
    {
      "cell_type": "code",
      "source": [
        "df_iplbbb.show()"
      ],
      "metadata": {
        "colab": {
          "base_uri": "https://localhost:8080/"
        },
        "id": "qWue7e7rO3RQ",
        "outputId": "f3bd4396-d13a-4748-f0de-ca75b7233b22"
      },
      "execution_count": 11,
      "outputs": [
        {
          "output_type": "stream",
          "name": "stdout",
          "text": [
            "+--------+------+-----+----+-------------+-------------+------------+------------+----------+----------+------------+---------+--------------+----------------+-------+-----------+--------------------+--------------------+\n",
            "|match_id|inning|overs|ball|      batsman|  non_striker|      bowler|batsman_runs|extra_runs|total_runs|non_boundary|is_wicket|dismissal_kind|player_dismissed|fielder|extras_type|        batting_team|        bowling_team|\n",
            "+--------+------+-----+----+-------------+-------------+------------+------------+----------+----------+------------+---------+--------------+----------------+-------+-----------+--------------------+--------------------+\n",
            "|  419157|     2|   16|   4|      V Kohli|R Vinay Kumar|CRD Fernando|           0|         0|         0|           0|        0|            NA|              NA|     NA|         NA|Royal Challengers...|      Mumbai Indians|\n",
            "|  419157|     2|   16|   5|      V Kohli|R Vinay Kumar|CRD Fernando|           1|         0|         1|           0|        0|            NA|              NA|     NA|         NA|Royal Challengers...|      Mumbai Indians|\n",
            "|  419157|     2|   16|   6|R Vinay Kumar|      V Kohli|CRD Fernando|           1|         0|         1|           0|        0|            NA|              NA|     NA|         NA|Royal Challengers...|      Mumbai Indians|\n",
            "|  419157|     2|   17|   1|R Vinay Kumar|      V Kohli|   R McLaren|           1|         0|         1|           0|        0|            NA|              NA|     NA|         NA|Royal Challengers...|      Mumbai Indians|\n",
            "|  419157|     2|   17|   2|      V Kohli|R Vinay Kumar|   R McLaren|           1|         0|         1|           0|        0|            NA|              NA|     NA|         NA|Royal Challengers...|      Mumbai Indians|\n",
            "|  419157|     2|   17|   3|R Vinay Kumar|      V Kohli|   R McLaren|           0|         0|         0|           0|        0|            NA|              NA|     NA|         NA|Royal Challengers...|      Mumbai Indians|\n",
            "|  419157|     2|   17|   4|R Vinay Kumar|      V Kohli|   R McLaren|           0|         0|         0|           0|        0|            NA|              NA|     NA|         NA|Royal Challengers...|      Mumbai Indians|\n",
            "|  419157|     2|   17|   5|R Vinay Kumar|      V Kohli|   R McLaren|           1|         0|         1|           0|        0|            NA|              NA|     NA|         NA|Royal Challengers...|      Mumbai Indians|\n",
            "|  419157|     2|   17|   6|      V Kohli|R Vinay Kumar|   R McLaren|           1|         0|         1|           0|        0|            NA|              NA|     NA|         NA|Royal Challengers...|      Mumbai Indians|\n",
            "|  419157|     2|   18|   1|      V Kohli|R Vinay Kumar|  KA Pollard|           4|         0|         4|           0|        0|            NA|              NA|     NA|         NA|Royal Challengers...|      Mumbai Indians|\n",
            "|  419157|     2|   18|   2|      V Kohli|R Vinay Kumar|  KA Pollard|           0|         0|         0|           0|        1|        caught|         V Kohli|AP Tare|         NA|Royal Challengers...|      Mumbai Indians|\n",
            "|  419157|     2|   18|   3|R Vinay Kumar| Pankaj Singh|  KA Pollard|           0|         1|         1|           0|        0|            NA|              NA|     NA|      wides|Royal Challengers...|      Mumbai Indians|\n",
            "|  419157|     2|   18|   4|R Vinay Kumar| Pankaj Singh|  KA Pollard|           1|         0|         1|           0|        0|            NA|              NA|     NA|         NA|Royal Challengers...|      Mumbai Indians|\n",
            "|  419157|     2|   18|   5| Pankaj Singh|R Vinay Kumar|  KA Pollard|           1|         0|         1|           0|        0|            NA|              NA|     NA|         NA|Royal Challengers...|      Mumbai Indians|\n",
            "|  419157|     2|   18|   6|R Vinay Kumar| Pankaj Singh|  KA Pollard|           1|         0|         1|           0|        0|            NA|              NA|     NA|         NA|Royal Challengers...|      Mumbai Indians|\n",
            "|  419157|     2|   18|   7| Pankaj Singh|R Vinay Kumar|  KA Pollard|           0|         0|         0|           0|        1|        caught|    Pankaj Singh| Z Khan|         NA|Royal Challengers...|      Mumbai Indians|\n",
            "|  419157|     2|   19|   1|     A Kumble|R Vinay Kumar|   R McLaren|           0|         0|         0|           0|        0|            NA|              NA|     NA|         NA|Royal Challengers...|      Mumbai Indians|\n",
            "|  419157|     1|    0|   1|    R McLaren| SR Tendulkar|    DW Steyn|           1|         0|         1|           0|        0|            NA|              NA|     NA|         NA|      Mumbai Indians|Royal Challengers...|\n",
            "|  419157|     1|    0|   2| SR Tendulkar|    R McLaren|    DW Steyn|           0|         0|         0|           0|        0|            NA|              NA|     NA|         NA|      Mumbai Indians|Royal Challengers...|\n",
            "|  419157|     1|    0|   3| SR Tendulkar|    R McLaren|    DW Steyn|           1|         0|         1|           0|        0|            NA|              NA|     NA|         NA|      Mumbai Indians|Royal Challengers...|\n",
            "+--------+------+-----+----+-------------+-------------+------------+------------+----------+----------+------------+---------+--------------+----------------+-------+-----------+--------------------+--------------------+\n",
            "only showing top 20 rows\n",
            "\n"
          ]
        }
      ]
    },
    {
      "cell_type": "markdown",
      "source": [
        "Registering the data as Temp Tables"
      ],
      "metadata": {
        "id": "5WlbnEb-epp2"
      }
    },
    {
      "cell_type": "code",
      "source": [
        "df_iplbbb.registerTempTable(\"IPL_BBB\")\n",
        "df_iplmat.registerTempTable(\"IPL_MAT\")\n",
        "df_iplven.registerTempTable(\"IPL_VEN\")"
      ],
      "metadata": {
        "id": "LsX2q4CkN7JL"
      },
      "execution_count": 12,
      "outputs": []
    },
    {
      "cell_type": "code",
      "source": [
        "spark.catalog.listTables()"
      ],
      "metadata": {
        "colab": {
          "base_uri": "https://localhost:8080/"
        },
        "id": "s3z7d9fFEJ-C",
        "outputId": "6b735727-e845-4cb3-83b2-460502f07e20"
      },
      "execution_count": 13,
      "outputs": [
        {
          "output_type": "execute_result",
          "data": {
            "text/plain": [
              "[Table(name='ipl_bbb', database=None, description=None, tableType='TEMPORARY', isTemporary=True),\n",
              " Table(name='ipl_mat', database=None, description=None, tableType='TEMPORARY', isTemporary=True),\n",
              " Table(name='ipl_ven', database=None, description=None, tableType='TEMPORARY', isTemporary=True)]"
            ]
          },
          "metadata": {},
          "execution_count": 13
        }
      ]
    },
    {
      "cell_type": "code",
      "source": [
        "print(\"The length of IPL DF are as follows (i.e. Number of rows) : \\n \\\n",
        " 1. IPL_Ball_by_Ball : {} \\\n",
        "  \\n 2. IPL_Matches\\\n",
        " : {} \\n 3. IPL_Venue : {}\".format(df_iplbbb.count(), df_iplmat.count(),df_iplven.count()))"
      ],
      "metadata": {
        "colab": {
          "base_uri": "https://localhost:8080/"
        },
        "id": "UR0ro6CTUiFP",
        "outputId": "39a3e560-aa9a-49b1-f056-4a3f862df3bc"
      },
      "execution_count": 14,
      "outputs": [
        {
          "output_type": "stream",
          "name": "stdout",
          "text": [
            "The length of IPL DF are as follows (i.e. Number of rows) : \n",
            "  1. IPL_Ball_by_Ball : 193468   \n",
            " 2. IPL_Matches : 816 \n",
            " 3. IPL_Venue : 35\n"
          ]
        }
      ]
    },
    {
      "cell_type": "markdown",
      "source": [
        "Reading Ball_by_Ball Data"
      ],
      "metadata": {
        "id": "i6MT2EWleuVf"
      }
    },
    {
      "cell_type": "code",
      "source": [
        "ipl_bbb1 = spark.read.format(\"csv\").option('header', \"true\").load(\"/content/drive/MyDrive/Colab-Data/ipl_ball_by_ball_split/ipl_ball_by_ball_1.csv\")\n",
        "ipl_bbb2 = spark.read.format(\"csv\").option('header', \"true\").load(\"/content/drive/MyDrive/Colab-Data/ipl_ball_by_ball_split/ipl_ball_by_ball_2.csv\")\n",
        "ipl_bbb3 = spark.read.format(\"csv\").option('header', \"true\").load(\"/content/drive/MyDrive/Colab-Data/ipl_ball_by_ball_split/ipl_ball_by_ball_3.csv\")\n",
        "ipl_bbb4 = spark.read.format(\"csv\").option('header', \"true\").load(\"/content/drive/MyDrive/Colab-Data/ipl_ball_by_ball_split/ipl_ball_by_ball_4.csv\")\n",
        "ipl_bbb5 = spark.read.format(\"csv\").option('header', \"true\").load(\"/content/drive/MyDrive/Colab-Data/ipl_ball_by_ball_split/ipl_ball_by_ball_5.csv\")"
      ],
      "metadata": {
        "id": "w2cIbK6-AzTx"
      },
      "execution_count": 15,
      "outputs": []
    },
    {
      "cell_type": "code",
      "source": [
        "print(\"The length of IPL DF seperately Ball by Ball are as follows (i.e. Number of rows) : \\n \\\n",
        "1. IPL_Ball_by_Ball_First : {} \\n \\\n",
        "2. IPL_Ball_by_Ball_Second : {} \\n \\\n",
        "3. IPL_Ball_by_Ball_Third : {} \\n \\\n",
        "4. IPL_Ball_by_Ball_Fourth : {} \\n \\\n",
        "5. IPL_Ball_by_Ball_Fifth : {}\".format( \\\n",
        "  ipl_bbb1.count(), \\\n",
        "  ipl_bbb2.count(), \\\n",
        "  ipl_bbb3.count(), \\\n",
        "  ipl_bbb4.count(), \\\n",
        "  ipl_bbb5.count()))"
      ],
      "metadata": {
        "colab": {
          "base_uri": "https://localhost:8080/"
        },
        "id": "iZALKuAMA1uZ",
        "outputId": "cdaada7c-22ba-45b1-805c-abbd2642e3e9"
      },
      "execution_count": 16,
      "outputs": [
        {
          "output_type": "stream",
          "name": "stdout",
          "text": [
            "The length of IPL DF seperately Ball by Ball are as follows (i.e. Number of rows) : \n",
            " 1. IPL_Ball_by_Ball_First : 38693 \n",
            " 2. IPL_Ball_by_Ball_Second : 38693 \n",
            " 3. IPL_Ball_by_Ball_Third : 38693 \n",
            " 4. IPL_Ball_by_Ball_Fourth : 38693 \n",
            " 5. IPL_Ball_by_Ball_Fifth : 38692\n"
          ]
        }
      ]
    },
    {
      "cell_type": "markdown",
      "source": [
        "## Section 2 - Questions & Solutions"
      ],
      "metadata": {
        "id": "lHSPn3A5ezsz"
      }
    },
    {
      "cell_type": "markdown",
      "source": [
        "**Q1 : Find the top 3 venues which hosted the most number of eliminator matches?**"
      ],
      "metadata": {
        "id": "l77XK25tXhL8"
      }
    },
    {
      "cell_type": "code",
      "source": [
        "df_mat_elem_Y = df_iplmat.filter(df_iplmat.eliminator == 'Y')\n",
        "\n",
        "ids = df_mat_elem_Y.select(\"venue_id\").collect()\n",
        "max_ele = max(set(ids), key = ids.count)\n",
        "max_ele"
      ],
      "metadata": {
        "colab": {
          "base_uri": "https://localhost:8080/"
        },
        "id": "HIY0t_ofWWOd",
        "outputId": "5c41c5f5-4aa0-4202-8e9e-70898e221641"
      },
      "execution_count": 17,
      "outputs": [
        {
          "output_type": "execute_result",
          "data": {
            "text/plain": [
              "Row(venue_id='25')"
            ]
          },
          "metadata": {},
          "execution_count": 17
        }
      ]
    },
    {
      "cell_type": "code",
      "source": [
        "df_iplven.filter(df_iplven.venue_id.contains(25)).show()"
      ],
      "metadata": {
        "colab": {
          "base_uri": "https://localhost:8080/"
        },
        "id": "Z9AByHgpZgTf",
        "outputId": "1f741964-d61a-4b02-bb85-963d01b7fb8e"
      },
      "execution_count": 18,
      "outputs": [
        {
          "output_type": "stream",
          "name": "stdout",
          "text": [
            "+--------+--------------------+-----+\n",
            "|venue_id|               venue| city|\n",
            "+--------+--------------------+-----+\n",
            "|      25|Dubai Internation...|Dubai|\n",
            "+--------+--------------------+-----+\n",
            "\n"
          ]
        }
      ]
    },
    {
      "cell_type": "markdown",
      "source": [
        "SO, Here is our Venue name which hosted the most number of eliminator matches. "
      ],
      "metadata": {
        "id": "fiLV-4JA3Plm"
      }
    },
    {
      "cell_type": "markdown",
      "source": [
        "**Q2 : Return most number of catches taken by a player in IPL history?**"
      ],
      "metadata": {
        "id": "PvwPaq0B6DeN"
      }
    },
    {
      "cell_type": "code",
      "source": [
        "df_iplbbb.select('dismissal_kind').distinct().show()"
      ],
      "metadata": {
        "colab": {
          "base_uri": "https://localhost:8080/"
        },
        "id": "vk3WkriKZjLM",
        "outputId": "1a7223d1-4286-4464-e27d-af1acc8550cb"
      },
      "execution_count": 19,
      "outputs": [
        {
          "output_type": "stream",
          "name": "stdout",
          "text": [
            "+--------------------+\n",
            "|      dismissal_kind|\n",
            "+--------------------+\n",
            "|             stumped|\n",
            "|          hit wicket|\n",
            "|                  NA|\n",
            "|              bowled|\n",
            "|                 lbw|\n",
            "|obstructing the f...|\n",
            "|   caught and bowled|\n",
            "|        retired hurt|\n",
            "|              caught|\n",
            "|             run out|\n",
            "+--------------------+\n",
            "\n"
          ]
        }
      ]
    },
    {
      "cell_type": "code",
      "source": [
        "df_bbb_caught_only = df_iplbbb.filter(df_iplbbb.dismissal_kind == 'caught')\n",
        "print(\"Total wickets by catch are : {}\".format(df_bbb_caught_only.count()))"
      ],
      "metadata": {
        "colab": {
          "base_uri": "https://localhost:8080/"
        },
        "id": "YrNyZ1ZH-oiW",
        "outputId": "2289054b-20ff-47c6-a017-6a26201fff29"
      },
      "execution_count": 20,
      "outputs": [
        {
          "output_type": "stream",
          "name": "stdout",
          "text": [
            "Total wickets by catch are : 5743\n"
          ]
        }
      ]
    },
    {
      "cell_type": "code",
      "source": [
        "df_bbb_caught_bowled = df_iplbbb.filter(df_iplbbb.dismissal_kind.contains(\"caught\"))\n",
        "print(\"Total wickets by Catch and Bowled together are : {}\".format(df_bbb_caught_bowled.count()))"
      ],
      "metadata": {
        "colab": {
          "base_uri": "https://localhost:8080/"
        },
        "id": "AMuSKa6ai7hR",
        "outputId": "ea485234-1524-4757-e6e0-5cf54fac0572"
      },
      "execution_count": 21,
      "outputs": [
        {
          "output_type": "stream",
          "name": "stdout",
          "text": [
            "Total wickets by Catch and Bowled together are : 6012\n"
          ]
        }
      ]
    },
    {
      "cell_type": "code",
      "source": [
        "ids_co = df_bbb_caught_only.select(\"bowler\").collect()\n",
        "ids_cb = df_bbb_caught_bowled.select(\"bowler\").collect()\n",
        "\n",
        "bowler_max_CO = max(set(ids_co), key = ids_co.count)\n",
        "bowler_max_CB = max(set(ids_cb), key = ids_cb.count)\n",
        "\n",
        "print(\"Most wicket taker by only catches is : {} \\n and Most wicket taker by catches and bowled together is : {}\".format(bowler_max_CO[0] , bowler_max_CB[0]))"
      ],
      "metadata": {
        "colab": {
          "base_uri": "https://localhost:8080/"
        },
        "id": "UWtq_q9dE0VE",
        "outputId": "df40d9fc-0a36-4961-a8f9-4f550df826d5"
      },
      "execution_count": 22,
      "outputs": [
        {
          "output_type": "stream",
          "name": "stdout",
          "text": [
            "Most wicket taker by only catches is : DJ Bravo \n",
            " and Most wicket taker by catches and bowled together is : DJ Bravo\n"
          ]
        }
      ]
    },
    {
      "cell_type": "markdown",
      "source": [
        "**Q3 : Write a query to return a report for highest wicket taker in matches which were affected by\n",
        "Duckworth-Lewis’s method (D/L method).**"
      ],
      "metadata": {
        "id": "6ygYmDvx2ZLr"
      }
    },
    {
      "cell_type": "code",
      "source": [
        "df_iplbbb.select('dismissal_kind').distinct().show()"
      ],
      "metadata": {
        "colab": {
          "base_uri": "https://localhost:8080/"
        },
        "id": "m9BfrYcPt_jF",
        "outputId": "a745e971-0a88-4fc2-9ee0-af9c05878ca4"
      },
      "execution_count": 23,
      "outputs": [
        {
          "output_type": "stream",
          "name": "stdout",
          "text": [
            "+--------------------+\n",
            "|      dismissal_kind|\n",
            "+--------------------+\n",
            "|             stumped|\n",
            "|          hit wicket|\n",
            "|                  NA|\n",
            "|              bowled|\n",
            "|                 lbw|\n",
            "|obstructing the f...|\n",
            "|   caught and bowled|\n",
            "|        retired hurt|\n",
            "|              caught|\n",
            "|             run out|\n",
            "+--------------------+\n",
            "\n"
          ]
        }
      ]
    },
    {
      "cell_type": "code",
      "source": [
        "df_mat_DL = df_iplmat.filter(df_iplmat.method == 'D/L')"
      ],
      "metadata": {
        "id": "BbK5gRA-3X8w"
      },
      "execution_count": 24,
      "outputs": []
    },
    {
      "cell_type": "code",
      "source": [
        "DLIds = []\n",
        "for i in range(df_mat_DL.count()):\n",
        "  id = df_mat_DL.select(\"match_id\").collect()[i]['match_id']\n",
        "  DLIds.append(id)"
      ],
      "metadata": {
        "id": "J1nX7bW15Rhk"
      },
      "execution_count": 25,
      "outputs": []
    },
    {
      "cell_type": "code",
      "source": [
        "df_DL = df_iplbbb.filter((df_iplbbb.match_id).isin(DLIds))"
      ],
      "metadata": {
        "id": "B-wR5UKt9Vwt"
      },
      "execution_count": 26,
      "outputs": []
    },
    {
      "cell_type": "code",
      "source": [
        "df_DL_wic = df_DL.filter(df_DL.is_wicket == 1)"
      ],
      "metadata": {
        "id": "YnUHUYWlFaoz"
      },
      "execution_count": 27,
      "outputs": []
    },
    {
      "cell_type": "code",
      "source": [
        "bow = df_DL_wic.select('bowler').distinct().collect()\n",
        "\n",
        "bow_name = []\n",
        "for i in range(df_DL_wic.count()):\n",
        "  nm = df_DL_wic.select(\"bowler\").collect()[i]['bowler']\n",
        "  bow_name.append(nm)\n",
        "\n",
        "# bow_name = df_DL_wic.select(df_DL_wic['bowler']).rdd.flatMap(lambda x:x).collect()"
      ],
      "metadata": {
        "id": "yl1pt1VPAqqt"
      },
      "execution_count": 28,
      "outputs": []
    },
    {
      "cell_type": "code",
      "source": [
        "DL_Max_Wic_Bowler = max(set(bow_name), key = bow_name.count)\n",
        "print(\"The most wicket taker in D/L matches is {}\".format(DL_Max_Wic_Bowler))"
      ],
      "metadata": {
        "colab": {
          "base_uri": "https://localhost:8080/"
        },
        "id": "_NRCq67sFKUx",
        "outputId": "d86cdb39-0ed8-4204-d126-948109c2ae9a"
      },
      "execution_count": 29,
      "outputs": [
        {
          "output_type": "stream",
          "name": "stdout",
          "text": [
            "The most wicket taker in D/L matches is AB Dinda\n"
          ]
        }
      ]
    },
    {
      "cell_type": "code",
      "source": [
        "frequency = {}\n",
        "print(\"Maximum Wickets takers by Catch bowlers report (in DLS Matches) \\n\")\n",
        "for item in bow_name:\n",
        "   if item in frequency:\n",
        "      frequency[item] += 1\n",
        "   else:\n",
        "      frequency[item] = 1\n",
        "k = 0\n",
        "for w in sorted(frequency, key=frequency.get, reverse=True):\n",
        "    print(w,\">>\",frequency[w], \" Wicket/s\")\n",
        "    if k>20:\n",
        "      break\n",
        "    k+=1"
      ],
      "metadata": {
        "colab": {
          "base_uri": "https://localhost:8080/"
        },
        "id": "a2EA8DZwKBnZ",
        "outputId": "ed221e1e-ff87-4dab-c6b7-ee34c7d9081c"
      },
      "execution_count": 30,
      "outputs": [
        {
          "output_type": "stream",
          "name": "stdout",
          "text": [
            "Maximum Wickets takers by Catch bowlers report (in DLS Matches) \n",
            "\n",
            "R Ashwin >> 8  Wicket/s\n",
            "AB Dinda >> 8  Wicket/s\n",
            "MC Henriques >> 7  Wicket/s\n",
            "B Kumar >> 6  Wicket/s\n",
            "TA Boult >> 5  Wicket/s\n",
            "L Balaji >> 5  Wicket/s\n",
            "JD Unadkat >> 5  Wicket/s\n",
            "DL Vettori >> 5  Wicket/s\n",
            "A Mishra >> 4  Wicket/s\n",
            "PP Chawla >> 4  Wicket/s\n",
            "M Ntini >> 4  Wicket/s\n",
            "YS Chahal >> 4  Wicket/s\n",
            "UT Yadav >> 3  Wicket/s\n",
            "NM Coulter-Nile >> 3  Wicket/s\n",
            "S Nadeem >> 3  Wicket/s\n",
            "NLTC Perera >> 3  Wicket/s\n",
            "S Aravind >> 3  Wicket/s\n",
            "A Zampa >> 3  Wicket/s\n",
            "M Morkel >> 2  Wicket/s\n",
            "AD Russell >> 2  Wicket/s\n",
            "P Kumar >> 2  Wicket/s\n",
            "RR Powar >> 2  Wicket/s\n"
          ]
        }
      ]
    },
    {
      "cell_type": "markdown",
      "source": [
        "**Q4 : Write a query to return a report for highest strike rate by a batsman in non powerplay overs(7-20 overs).**"
      ],
      "metadata": {
        "id": "8np2EuKglnh8"
      }
    },
    {
      "cell_type": "markdown",
      "source": [
        "Note: strike rate = (Total Runs scored/Total balls faced by player) *100, Make sure that balls\n",
        "faced by players should be legal delivery (not wide balls or no balls)."
      ],
      "metadata": {
        "id": "SNGb6HPfl0cg"
      }
    },
    {
      "cell_type": "code",
      "source": [
        "#Seperating the Non-PowerPlay overs\n",
        "df_NP_Bat_Runs = df_iplbbb.filter(df_iplbbb.overs >=7).select(['batsman', 'batsman_runs'])\n",
        "df_NP_Bat_Runs.show()"
      ],
      "metadata": {
        "colab": {
          "base_uri": "https://localhost:8080/"
        },
        "id": "VcXL2wpzcciR",
        "outputId": "73c10de1-8d79-4d6b-9532-047c08036f4c"
      },
      "execution_count": 31,
      "outputs": [
        {
          "output_type": "stream",
          "name": "stdout",
          "text": [
            "+-------------+------------+\n",
            "|      batsman|batsman_runs|\n",
            "+-------------+------------+\n",
            "|      V Kohli|           0|\n",
            "|      V Kohli|           1|\n",
            "|R Vinay Kumar|           1|\n",
            "|R Vinay Kumar|           1|\n",
            "|      V Kohli|           1|\n",
            "|R Vinay Kumar|           0|\n",
            "|R Vinay Kumar|           0|\n",
            "|R Vinay Kumar|           1|\n",
            "|      V Kohli|           1|\n",
            "|      V Kohli|           4|\n",
            "|      V Kohli|           0|\n",
            "|R Vinay Kumar|           0|\n",
            "|R Vinay Kumar|           1|\n",
            "| Pankaj Singh|           1|\n",
            "|R Vinay Kumar|           1|\n",
            "| Pankaj Singh|           0|\n",
            "|     A Kumble|           0|\n",
            "|     MS Dhoni|           0|\n",
            "|     MS Dhoni|           2|\n",
            "|     MS Dhoni|           2|\n",
            "+-------------+------------+\n",
            "only showing top 20 rows\n",
            "\n"
          ]
        }
      ]
    },
    {
      "cell_type": "code",
      "source": [
        "import numpy as np\n",
        "from pyspark.sql.functions import desc\n",
        "\n",
        "players = df_NP_Bat_Runs.select('batsman').rdd.flatMap(lambda x: x).collect()\n",
        "uni_players = np.unique(players)\n",
        "len(uni_players)"
      ],
      "metadata": {
        "colab": {
          "base_uri": "https://localhost:8080/"
        },
        "id": "o4BgPrrptbQT",
        "outputId": "fb8066c3-4ddc-47e7-b60c-880147c43286"
      },
      "execution_count": 52,
      "outputs": [
        {
          "output_type": "execute_result",
          "data": {
            "text/plain": [
              "521"
            ]
          },
          "metadata": {},
          "execution_count": 52
        }
      ]
    },
    {
      "cell_type": "code",
      "source": [
        "max_scorer_player = \"\"\n",
        "max_strike_rate = -1\n",
        "player_score_Data = {}\n",
        "for player in uni_players:\n",
        "  rate = ((df_NP_Bat_Runs.filter(df_NP_Bat_Runs.batsman == player).agg({'batsman_runs': 'sum'}).collect()[0][0]) /  \\\n",
        "         (df_NP_Bat_Runs.filter(df_NP_Bat_Runs.batsman == player).count()))\n",
        "  if rate > max_strike_rate:\n",
        "    max_strike_rate = rate\n",
        "    max_scorer_player = player"
      ],
      "metadata": {
        "id": "H_oJERE-db5s"
      },
      "execution_count": 33,
      "outputs": []
    },
    {
      "cell_type": "code",
      "source": [
        "print(\"The Player with maximum strike rate in the Non Powerplay overs is : {} with rate of {} %\".format(max_scorer_player, max_strike_rate*100))"
      ],
      "metadata": {
        "colab": {
          "base_uri": "https://localhost:8080/"
        },
        "id": "di_tAlEvkYcj",
        "outputId": "e50a85c9-2ff9-46a7-a4ba-16887e4165f5"
      },
      "execution_count": 34,
      "outputs": [
        {
          "output_type": "stream",
          "name": "stdout",
          "text": [
            "The Player with maximum strike rate in the Non Powerplay overs is : B Stanlake with rate of 250.0 %\n"
          ]
        }
      ]
    },
    {
      "cell_type": "markdown",
      "source": [
        "**Q5 : Write a query to return a report for highest extra runs in a venue (stadium, city).**"
      ],
      "metadata": {
        "id": "KmzUgGJ9Yg4E"
      }
    },
    {
      "cell_type": "code",
      "source": [
        "df_iplbbb.select('extra_runs').distinct().show()"
      ],
      "metadata": {
        "colab": {
          "base_uri": "https://localhost:8080/"
        },
        "id": "Npd5PnM6FZiC",
        "outputId": "eda12662-2e38-4202-e70f-4a3cdf571f82"
      },
      "execution_count": 35,
      "outputs": [
        {
          "output_type": "stream",
          "name": "stdout",
          "text": [
            "+----------+\n",
            "|extra_runs|\n",
            "+----------+\n",
            "|         7|\n",
            "|         3|\n",
            "|         0|\n",
            "|         5|\n",
            "|         1|\n",
            "|         4|\n",
            "|         2|\n",
            "+----------+\n",
            "\n"
          ]
        }
      ]
    },
    {
      "cell_type": "markdown",
      "source": [
        "We can see that the extra runs vary from 0 to 7 So, we need to sum up the extra runs by match id's and then according to the venue where they were played, we will return the venue name of most extra runs"
      ],
      "metadata": {
        "id": "TClUD_BQZ4Me"
      }
    },
    {
      "cell_type": "code",
      "source": [
        "df_extra_runs = df_iplbbb.filter(df_iplbbb.extra_runs > 0)"
      ],
      "metadata": {
        "id": "gU5tUIhVZFCS"
      },
      "execution_count": 36,
      "outputs": []
    },
    {
      "cell_type": "code",
      "source": [
        "matches = df_extra_runs.select('match_id').rdd.flatMap(lambda x: x).collect()\n",
        "matches = np.unique(matches)"
      ],
      "metadata": {
        "id": "Wvtd4NYoaIGv"
      },
      "execution_count": 37,
      "outputs": []
    },
    {
      "cell_type": "code",
      "source": [
        "Matches_Extras = []\n",
        "for match in matches:\n",
        "  extsum = df_extra_runs.filter(df_extra_runs.match_id == match).agg({'extra_runs': 'sum'}).collect()[0][0]\n",
        "  tup = (int(match), extsum)\n",
        "  Matches_Extras.append(tup)"
      ],
      "metadata": {
        "id": "Yw9BocPMa1BG"
      },
      "execution_count": 38,
      "outputs": []
    },
    {
      "cell_type": "code",
      "source": [
        "columns = [\"match_id\",\"extra_runs_total\"]\n",
        "Matches_Extras[:10]"
      ],
      "metadata": {
        "colab": {
          "base_uri": "https://localhost:8080/"
        },
        "id": "uIIJZoYxc7QB",
        "outputId": "3c74761c-3e4e-4f1c-b73f-3afbeaf3daef"
      },
      "execution_count": 39,
      "outputs": [
        {
          "output_type": "execute_result",
          "data": {
            "text/plain": [
              "[(1082591, 13.0),\n",
              " (1082592, 12.0),\n",
              " (1082593, 19.0),\n",
              " (1082594, 16.0),\n",
              " (1082595, 11.0),\n",
              " (1082596, 6.0),\n",
              " (1082597, 21.0),\n",
              " (1082598, 10.0),\n",
              " (1082599, 13.0),\n",
              " (1082600, 15.0)]"
            ]
          },
          "metadata": {},
          "execution_count": 39
        }
      ]
    },
    {
      "cell_type": "code",
      "source": [
        "Match_Ext_df = spark.createDataFrame(Matches_Extras, columns)"
      ],
      "metadata": {
        "id": "6-_Ld6LPnBWr"
      },
      "execution_count": 40,
      "outputs": []
    },
    {
      "cell_type": "code",
      "source": [
        "Match_Ext_df = Match_Ext_df.orderBy('match_id')"
      ],
      "metadata": {
        "id": "moE0AxmT-zHF"
      },
      "execution_count": 41,
      "outputs": []
    },
    {
      "cell_type": "code",
      "source": [
        "df_iplmat = df_iplmat.orderBy(\"match_id\")"
      ],
      "metadata": {
        "id": "soCTB0_rB4SG"
      },
      "execution_count": 42,
      "outputs": []
    },
    {
      "cell_type": "code",
      "source": [
        "df_iplmat = df_iplmat.withColumn(\"match_id\", df_iplmat[\"match_id\"].cast(\"int\"))\n",
        "Match_Ext_df = Match_Ext_df.withColumn(\"match_id\", Match_Ext_df[\"match_id\"].cast(\"int\"))"
      ],
      "metadata": {
        "id": "KwCRNo7foHOu"
      },
      "execution_count": 43,
      "outputs": []
    },
    {
      "cell_type": "code",
      "source": [
        "df_iplmat = df_iplmat.orderBy(\"match_id\")\n",
        "Match_Ext_df = Match_Ext_df.orderBy(\"match_id\")"
      ],
      "metadata": {
        "id": "b57puhVdpkUe"
      },
      "execution_count": 44,
      "outputs": []
    },
    {
      "cell_type": "code",
      "source": [
        "vids = df_iplven.select('venue_id').rdd.flatMap(lambda x: x).collect()"
      ],
      "metadata": {
        "id": "oUW2lHItrhFt"
      },
      "execution_count": 49,
      "outputs": []
    },
    {
      "cell_type": "code",
      "source": [
        "vid_exruns = []\n",
        "for id in vids:\n",
        "  ven_matches = df_iplmat.filter(df_iplmat.venue_id == int(id)).select(df_iplmat['match_id']).rdd.flatMap(lambda x: x).collect()\n",
        "  verun = Match_Ext_df.filter(Match_Ext_df.match_id.isin(ven_matches)).rdd.map(lambda x: (1,x[1])).reduceByKey(lambda x,y: x + y).collect()[0][1]\n",
        "  venname = df_iplven.filter(df_iplven.venue_id == id).collect()[0][1]\n",
        "  viextup = (str(venname), int(verun))\n",
        "  vid_exruns.append(viextup)\n",
        "\n",
        "vid_run_df = spark.createDataFrame(vid_exruns, ['Venue_ID', 'Runs'])\n",
        "vid_run_df = vid_run_df.orderBy(desc('Runs')).show()"
      ],
      "metadata": {
        "id": "Ziz0SJZUzM5g",
        "colab": {
          "base_uri": "https://localhost:8080/"
        },
        "outputId": "141b5a4b-b41e-420f-a4e0-33cfff7bf75d"
      },
      "execution_count": 53,
      "outputs": [
        {
          "output_type": "stream",
          "name": "stdout",
          "text": [
            "+--------------------+----+\n",
            "|            Venue_ID|Runs|\n",
            "+--------------------+----+\n",
            "|M.Chinnaswamy Sta...|1355|\n",
            "|    Wankhede Stadium|1232|\n",
            "|        Eden Gardens|1215|\n",
            "|    Feroz Shah Kotla|1114|\n",
            "|MA Chidambaram St...| 905|\n",
            "|Rajiv Gandhi Inte...| 900|\n",
            "|Sawai Mansingh St...| 791|\n",
            "|Punjab Cricket As...| 566|\n",
            "|Dubai Internation...| 492|\n",
            "|Sheikh Zayed Stadium| 387|\n",
            "|Dr DY Patil Sport...| 320|\n",
            "|Maharashtra Crick...| 315|\n",
            "|Sharjah Cricket S...| 287|\n",
            "|           Kingsmead| 277|\n",
            "|Punjab Cricket As...| 271|\n",
            "|   Brabourne Stadium| 246|\n",
            "|Subrata Roy Sahar...| 237|\n",
            "|     SuperSport Park| 213|\n",
            "|Himachal Pradesh ...| 177|\n",
            "|Sardar Patel Stad...| 175|\n",
            "+--------------------+----+\n",
            "only showing top 20 rows\n",
            "\n"
          ]
        }
      ]
    },
    {
      "cell_type": "markdown",
      "source": [
        "**Q6 : Write a query to return a report for the cricketers with the most number of players of the match award in neutral venues.**"
      ],
      "metadata": {
        "id": "c5WbvacNE7Tw"
      }
    },
    {
      "cell_type": "code",
      "source": [
        "df_iplmat.select('neutral_venue').distinct().show()"
      ],
      "metadata": {
        "colab": {
          "base_uri": "https://localhost:8080/"
        },
        "id": "wA7f7sqODS-J",
        "outputId": "fe7ebbcf-5566-4e3f-96fe-d8605134345b"
      },
      "execution_count": 54,
      "outputs": [
        {
          "output_type": "stream",
          "name": "stdout",
          "text": [
            "+-------------+\n",
            "|neutral_venue|\n",
            "+-------------+\n",
            "|            0|\n",
            "|            1|\n",
            "+-------------+\n",
            "\n"
          ]
        }
      ]
    },
    {
      "cell_type": "code",
      "source": [
        "from pyspark.sql.functions import desc\n",
        "\n",
        "neu_ven = df_iplmat.filter(df_iplmat['neutral_venue'] == 1)\n",
        "neu_ven = neu_ven.cube('player_of_match').count()\n",
        "neu_ven.orderBy(desc('count')).show(10)"
      ],
      "metadata": {
        "colab": {
          "base_uri": "https://localhost:8080/"
        },
        "id": "Vk5Oe8t9-U04",
        "outputId": "18428f7f-6701-4781-a8b2-ec3a948edcc4"
      },
      "execution_count": 56,
      "outputs": [
        {
          "output_type": "stream",
          "name": "stdout",
          "text": [
            "+----------------+-----+\n",
            "| player_of_match|count|\n",
            "+----------------+-----+\n",
            "|            null|   77|\n",
            "|       JH Kallis|    3|\n",
            "|       JP Duminy|    3|\n",
            "|       YK Pathan|    3|\n",
            "|      GJ Maxwell|    3|\n",
            "|  AB de Villiers|    2|\n",
            "|    AC Gilchrist|    2|\n",
            "|DPMD Jayawardene|    2|\n",
            "|   KC Sangakkara|    2|\n",
            "|  Sandeep Sharma|    2|\n",
            "+----------------+-----+\n",
            "only showing top 10 rows\n",
            "\n"
          ]
        }
      ]
    },
    {
      "cell_type": "markdown",
      "source": [
        "So, Here we can see that the top players of the match in neutral venues are as follows : \n",
        "\n",
        "1.   GJ Maxwell|    3|\n",
        "2.   JP Duminy|     3|\n",
        "3.   JH Kallis|     3|\n",
        "4.   YK Pathan|     3|\n"
      ],
      "metadata": {
        "id": "M9Eh2alaCfJq"
      }
    },
    {
      "cell_type": "markdown",
      "source": [
        "**Q7 : Write a query to get a list of top 10 players with the highest batting average Note: Batting average is the total number of runs scored divided by the number of times they have been out (Make sure to include run outs (on non-striker end) as valid out while calculating average).**"
      ],
      "metadata": {
        "id": "qvQjZjvADYNY"
      }
    },
    {
      "cell_type": "code",
      "source": [
        "sub_df = df_iplbbb.select(df_iplbbb[\"match_id\"],df_iplbbb[\"batsman\"],df_iplbbb['non_striker'],df_iplbbb[\"batsman_runs\"],df_iplbbb['extra_runs'],df_iplbbb['total_runs'],df_iplbbb[\"is_wicket\"],df_iplbbb[\"dismissal_kind\"],df_iplbbb[\"player_dismissed\"])"
      ],
      "metadata": {
        "id": "3zfJx7laD7A-"
      },
      "execution_count": 57,
      "outputs": []
    },
    {
      "cell_type": "code",
      "source": [
        "sub_df.select('dismissal_kind').distinct().show()"
      ],
      "metadata": {
        "colab": {
          "base_uri": "https://localhost:8080/"
        },
        "id": "YeAGecAPGC3t",
        "outputId": "39a75573-eb35-4513-dc7f-fb4ab923b731"
      },
      "execution_count": 58,
      "outputs": [
        {
          "output_type": "stream",
          "name": "stdout",
          "text": [
            "+--------------------+\n",
            "|      dismissal_kind|\n",
            "+--------------------+\n",
            "|             stumped|\n",
            "|          hit wicket|\n",
            "|                  NA|\n",
            "|              bowled|\n",
            "|                 lbw|\n",
            "|obstructing the f...|\n",
            "|   caught and bowled|\n",
            "|        retired hurt|\n",
            "|              caught|\n",
            "|             run out|\n",
            "+--------------------+\n",
            "\n"
          ]
        }
      ]
    },
    {
      "cell_type": "code",
      "source": [
        "aggrun_batsman = []\n",
        "for player in uni_players:\n",
        "  aggrun = df_iplbbb.filter(df_iplbbb.batsman == player ).agg({'batsman_runs': 'sum'}).collect()[0][0]\n",
        "  tupp = (str(player), int(aggrun))\n",
        "  aggrun_batsman.append(tupp)"
      ],
      "metadata": {
        "id": "q7u5rNc6KD1x"
      },
      "execution_count": 59,
      "outputs": []
    },
    {
      "cell_type": "code",
      "source": [
        "bats_aggrun = spark.createDataFrame(aggrun_batsman, ['player', 'Agg_Runs'])\n",
        "bats_aggrun = bats_aggrun.orderBy('player')\n",
        "bats_aggrun.show(5)"
      ],
      "metadata": {
        "colab": {
          "base_uri": "https://localhost:8080/"
        },
        "id": "VYbcvgDVNVr-",
        "outputId": "d6ee3f10-1db4-45fe-ae31-7e8f390f67f8"
      },
      "execution_count": 60,
      "outputs": [
        {
          "output_type": "stream",
          "name": "stdout",
          "text": [
            "+--------------+--------+\n",
            "|        player|Agg_Runs|\n",
            "+--------------+--------+\n",
            "|A Ashish Reddy|     280|\n",
            "|    A Chandila|       4|\n",
            "|      A Chopra|      53|\n",
            "|   A Choudhary|      25|\n",
            "|   A Dananjaya|       4|\n",
            "+--------------+--------+\n",
            "only showing top 5 rows\n",
            "\n"
          ]
        }
      ]
    },
    {
      "cell_type": "code",
      "source": [
        "wic_balls = df_iplbbb.filter(df_iplbbb.is_wicket == 1)\n",
        "wic_balls.show(5)"
      ],
      "metadata": {
        "colab": {
          "base_uri": "https://localhost:8080/"
        },
        "id": "MRL-23a-O1RB",
        "outputId": "f0d1087a-0ff6-43d1-ca3a-98c4c8c62833"
      },
      "execution_count": 61,
      "outputs": [
        {
          "output_type": "stream",
          "name": "stdout",
          "text": [
            "+--------+------+-----+----+------------+-------------+------------+------------+----------+----------+------------+---------+--------------+----------------+-------+-----------+--------------------+--------------+\n",
            "|match_id|inning|overs|ball|     batsman|  non_striker|      bowler|batsman_runs|extra_runs|total_runs|non_boundary|is_wicket|dismissal_kind|player_dismissed|fielder|extras_type|        batting_team|  bowling_team|\n",
            "+--------+------+-----+----+------------+-------------+------------+------------+----------+----------+------------+---------+--------------+----------------+-------+-----------+--------------------+--------------+\n",
            "|  419157|     2|   18|   2|     V Kohli|R Vinay Kumar|  KA Pollard|           0|         0|         0|           0|        1|        caught|         V Kohli|AP Tare|         NA|Royal Challengers...|Mumbai Indians|\n",
            "|  419157|     2|   18|   7|Pankaj Singh|R Vinay Kumar|  KA Pollard|           0|         0|         0|           0|        1|        caught|    Pankaj Singh| Z Khan|         NA|Royal Challengers...|Mumbai Indians|\n",
            "|  419157|     2|    4|   5|   MK Pandey|    JH Kallis|CRD Fernando|           0|         0|         0|           0|        1|        caught|       MK Pandey| Z Khan|         NA|Royal Challengers...|Mumbai Indians|\n",
            "|  419157|     2|    5|   4|   JH Kallis| KP Pietersen|   R McLaren|           0|         0|         0|           0|        1|        bowled|       JH Kallis|     NA|         NA|Royal Challengers...|Mumbai Indians|\n",
            "| 1216505|     1|    4|   1| JR Philippe|   D Padikkal|    K Rabada|           0|         0|         0|           0|        1|        caught|     JR Philippe|PP Shaw|         NA|Royal Challengers...|Delhi Capitals|\n",
            "+--------+------+-----+----+------------+-------------+------------+------------+----------+----------+------------+---------+--------------+----------------+-------+-----------+--------------------+--------------+\n",
            "only showing top 5 rows\n",
            "\n"
          ]
        }
      ]
    },
    {
      "cell_type": "code",
      "source": [
        "player_wics = []\n",
        "for plr in uni_players:\n",
        "  plr_wics = wic_balls.filter(wic_balls.player_dismissed == plr).count()\n",
        "  ptu = (str(plr), int(plr_wics))\n",
        "  player_wics.append(ptu)"
      ],
      "metadata": {
        "id": "Kh7cLGyGXu7X"
      },
      "execution_count": 62,
      "outputs": []
    },
    {
      "cell_type": "code",
      "source": [
        "player_wics = spark.createDataFrame(player_wics,['Player','tot_outs'])\n",
        "player_wics.show()"
      ],
      "metadata": {
        "colab": {
          "base_uri": "https://localhost:8080/"
        },
        "id": "lFcUnasSCHTa",
        "outputId": "78de7606-dd7b-4f8a-f1a2-1f99532b5570"
      },
      "execution_count": 63,
      "outputs": [
        {
          "output_type": "stream",
          "name": "stdout",
          "text": [
            "+---------------+--------+\n",
            "|         Player|tot_outs|\n",
            "+---------------+--------+\n",
            "| A Ashish Reddy|      15|\n",
            "|     A Chandila|       0|\n",
            "|       A Chopra|       6|\n",
            "|    A Choudhary|       1|\n",
            "|    A Dananjaya|       0|\n",
            "|     A Flintoff|       2|\n",
            "|       A Kumble|       3|\n",
            "|       A Mishra|      31|\n",
            "|       A Mithun|       5|\n",
            "|       A Mukund|       2|\n",
            "|        A Nehra|       7|\n",
            "|       A Nortje|       1|\n",
            "|        A Singh|       4|\n",
            "|      A Symonds|      27|\n",
            "|       A Uniyal|       1|\n",
            "|        A Zampa|       2|\n",
            "|    AA Bilakhia|       5|\n",
            "|      AA Chavan|       2|\n",
            "|AA Jhunjhunwala|      13|\n",
            "|      AA Noffke|       1|\n",
            "+---------------+--------+\n",
            "only showing top 20 rows\n",
            "\n"
          ]
        }
      ]
    },
    {
      "cell_type": "code",
      "source": [
        "batt_Avg = []\n",
        "for i in range(len(uni_players)):\n",
        "  runs = bats_aggrun.collect()[i][1]\n",
        "  wickets = player_wics.collect()[i][1]\n",
        "  if wickets == 0:\n",
        "    runs = 0  # Since the batting avg can't be calculated we can simply draw it as 0.\n",
        "    wickets = 1\n",
        "  plr_avg = runs / wickets\n",
        "  plr_nm = bats_aggrun.collect()[i][0]\n",
        "  plr_sc = (str(plr_nm) , float(plr_avg))\n",
        "  batt_Avg.append(plr_sc)"
      ],
      "metadata": {
        "id": "D3dNtkDfH7jy"
      },
      "execution_count": 64,
      "outputs": []
    },
    {
      "cell_type": "code",
      "source": [
        "batt_Avg = spark.createDataFrame(batt_Avg, ['player', 'batting_average'])\n",
        "batt_Avg = batt_Avg.orderBy(desc('batting_average'))\n",
        "batt_Avg.show()"
      ],
      "metadata": {
        "colab": {
          "base_uri": "https://localhost:8080/"
        },
        "id": "-DCm8iu4KTtF",
        "outputId": "261e1fb3-7c2a-4025-af47-3c1e3a7bf491"
      },
      "execution_count": 65,
      "outputs": [
        {
          "output_type": "stream",
          "name": "stdout",
          "text": [
            "+--------------+------------------+\n",
            "|        player|   batting_average|\n",
            "+--------------+------------------+\n",
            "|    MN van Wyk|55.666666666666664|\n",
            "|    RD Gaikwad|              51.0|\n",
            "|      AC Voges|             45.25|\n",
            "|      KL Rahul| 44.86440677966102|\n",
            "|       HM Amla| 44.38461538461539|\n",
            "| Iqbal Abdulla|              44.0|\n",
            "|     DA Warner| 42.71544715447155|\n",
            "|   JM Bairstow|41.578947368421055|\n",
            "|      CH Gayle| 41.13793103448276|\n",
            "|      MS Dhoni|40.991150442477874|\n",
            "|PD Collingwood|              40.6|\n",
            "|AB de Villiers| 40.40833333333333|\n",
            "|   LMP Simmons| 39.96296296296296|\n",
            "|      SE Marsh| 39.95161290322581|\n",
            "|     JP Duminy| 39.78431372549019|\n",
            "| KS Williamson| 39.48780487804878|\n",
            "|    MEK Hussey| 38.76470588235294|\n",
            "|       V Kohli| 38.16883116883117|\n",
            "|     ML Hayden|              36.9|\n",
            "|     A Symonds|36.074074074074076|\n",
            "+--------------+------------------+\n",
            "only showing top 20 rows\n",
            "\n"
          ]
        }
      ]
    },
    {
      "cell_type": "markdown",
      "source": [
        "So, Here this report shows the Players with their batting average (including the non-striker side also) in descending order. "
      ],
      "metadata": {
        "id": "40shh88ePpZ1"
      }
    },
    {
      "cell_type": "markdown",
      "source": [
        "**Q8 :  Write a query to find out who has officiated (as an umpire) the most number of matches in IPL.**"
      ],
      "metadata": {
        "id": "7qedhLAhQVMx"
      }
    },
    {
      "cell_type": "code",
      "source": [
        "ump1 = df_iplmat.select(df_iplmat['umpire1']).rdd.flatMap(lambda x: x).collect()\n",
        "ump2 = df_iplmat.select(df_iplmat['umpire2']).rdd.flatMap(lambda x: x).collect()"
      ],
      "metadata": {
        "id": "ZWrrksgJRNXl"
      },
      "execution_count": 67,
      "outputs": []
    },
    {
      "cell_type": "code",
      "source": [
        "umpires = ump1 + ump2"
      ],
      "metadata": {
        "id": "yUkILKUUVjhb"
      },
      "execution_count": 68,
      "outputs": []
    },
    {
      "cell_type": "code",
      "source": [
        "\n",
        "def maxFreq(arr):\n",
        "  n = len(arr)\n",
        "  res = 0\n",
        "  count = 1\n",
        "    \n",
        "  for i in range(1, n):\n",
        "      if (arr[i] == arr[res]):\n",
        "          count += 1\n",
        "      else:\n",
        "          count -= 1\n",
        "\n",
        "      if (count == 0):\n",
        "          res = i\n",
        "          count = 1\n",
        "        \n",
        "  return arr[res]\n",
        "\n",
        "freq = maxFreq(umpires)\n",
        "\n",
        "count = 0\n",
        "for i in range(len(umpires)):\n",
        "        if(umpires[i] == freq):\n",
        "            count += 1\n",
        "         \n",
        "print(\"Umpire \", freq,\" Officiated the maximum matches in IPL with a count of \", count, \" matches\")"
      ],
      "metadata": {
        "colab": {
          "base_uri": "https://localhost:8080/"
        },
        "id": "wg2b5eSHWZ5c",
        "outputId": "6081f9cb-5812-4bb2-a31c-1b694c4a28d7"
      },
      "execution_count": 69,
      "outputs": [
        {
          "output_type": "stream",
          "name": "stdout",
          "text": [
            "Umpire  S Ravi  Officiated the maximum matches in IPL with a count of  121  matches\n"
          ]
        }
      ]
    },
    {
      "cell_type": "markdown",
      "source": [
        "**Q9 : Find venue details of the match where V Kohli scored his highest individual runs in IPL**"
      ],
      "metadata": {
        "id": "EzMfjgRxYRP0"
      }
    },
    {
      "cell_type": "code",
      "source": [
        "vkohli_df = df_iplbbb.filter(df_iplbbb.batsman == \"V Kohli\")\n",
        "vkohli_df.show(5)"
      ],
      "metadata": {
        "colab": {
          "base_uri": "https://localhost:8080/"
        },
        "id": "BEZdNcMf-xng",
        "outputId": "187793c4-4d56-420c-e0cd-9c8e4d6ae06c"
      },
      "execution_count": 70,
      "outputs": [
        {
          "output_type": "stream",
          "name": "stdout",
          "text": [
            "+--------+------+-----+----+-------+-------------+------------+------------+----------+----------+------------+---------+--------------+----------------+-------+-----------+--------------------+--------------+\n",
            "|match_id|inning|overs|ball|batsman|  non_striker|      bowler|batsman_runs|extra_runs|total_runs|non_boundary|is_wicket|dismissal_kind|player_dismissed|fielder|extras_type|        batting_team|  bowling_team|\n",
            "+--------+------+-----+----+-------+-------------+------------+------------+----------+----------+------------+---------+--------------+----------------+-------+-----------+--------------------+--------------+\n",
            "|  419157|     2|   16|   4|V Kohli|R Vinay Kumar|CRD Fernando|           0|         0|         0|           0|        0|            NA|              NA|     NA|         NA|Royal Challengers...|Mumbai Indians|\n",
            "|  419157|     2|   16|   5|V Kohli|R Vinay Kumar|CRD Fernando|           1|         0|         1|           0|        0|            NA|              NA|     NA|         NA|Royal Challengers...|Mumbai Indians|\n",
            "|  419157|     2|   17|   2|V Kohli|R Vinay Kumar|   R McLaren|           1|         0|         1|           0|        0|            NA|              NA|     NA|         NA|Royal Challengers...|Mumbai Indians|\n",
            "|  419157|     2|   17|   6|V Kohli|R Vinay Kumar|   R McLaren|           1|         0|         1|           0|        0|            NA|              NA|     NA|         NA|Royal Challengers...|Mumbai Indians|\n",
            "|  419157|     2|   18|   1|V Kohli|R Vinay Kumar|  KA Pollard|           4|         0|         4|           0|        0|            NA|              NA|     NA|         NA|Royal Challengers...|Mumbai Indians|\n",
            "+--------+------+-----+----+-------+-------------+------------+------------+----------+----------+------------+---------+--------------+----------------+-------+-----------+--------------------+--------------+\n",
            "only showing top 5 rows\n",
            "\n"
          ]
        }
      ]
    },
    {
      "cell_type": "code",
      "source": [
        "vk_ind_mat = vkohli_df.select(vkohli_df['match_id']).rdd.flatMap(lambda x:x).collect()\n",
        "vk_ind_mat = np.unique(vk_ind_mat)"
      ],
      "metadata": {
        "id": "ECwc4La5E_Xa"
      },
      "execution_count": 71,
      "outputs": []
    },
    {
      "cell_type": "code",
      "source": [
        "len(vk_ind_mat)"
      ],
      "metadata": {
        "colab": {
          "base_uri": "https://localhost:8080/"
        },
        "id": "0MLMwEiFPIWm",
        "outputId": "e0f8b117-ea6c-462a-e100-ab3f7cb5ad09"
      },
      "execution_count": 72,
      "outputs": [
        {
          "output_type": "execute_result",
          "data": {
            "text/plain": [
              "184"
            ]
          },
          "metadata": {},
          "execution_count": 72
        }
      ]
    },
    {
      "cell_type": "code",
      "source": [
        "vkohli_df = vkohli_df.select(vkohli_df['match_id'], vkohli_df['batsman_runs'])"
      ],
      "metadata": {
        "id": "durNgUJXMkRf"
      },
      "execution_count": 73,
      "outputs": []
    },
    {
      "cell_type": "code",
      "source": [
        "vk_ind_score = []\n",
        "for match in vk_ind_mat:\n",
        "  runs  = vkohli_df.filter(vkohli_df.match_id == match).agg({'batsman_runs':'sum'}).collect()[0][0]\n",
        "  vktup = (str(match),runs)\n",
        "  vk_ind_score.append(vktup)\n",
        "\n",
        "vk_ind_score = spark.createDataFrame(vk_ind_score,['Match_Id', 'Score'])"
      ],
      "metadata": {
        "id": "hAAm1fs2GUsF"
      },
      "execution_count": 74,
      "outputs": []
    },
    {
      "cell_type": "code",
      "source": [
        "vk_ind_score = vk_ind_score.orderBy(desc('Score'))"
      ],
      "metadata": {
        "id": "CJcyciD8QaHP"
      },
      "execution_count": 75,
      "outputs": []
    },
    {
      "cell_type": "code",
      "source": [
        "vk_ind_score.collect()[0][0],vk_ind_score.collect()[0][1]"
      ],
      "metadata": {
        "colab": {
          "base_uri": "https://localhost:8080/"
        },
        "id": "mVFCw491GX6S",
        "outputId": "d2f58e28-fe8a-4499-face-0c8da16fa3bc"
      },
      "execution_count": 76,
      "outputs": [
        {
          "output_type": "execute_result",
          "data": {
            "text/plain": [
              "('980999', 113.0)"
            ]
          },
          "metadata": {},
          "execution_count": 76
        }
      ]
    },
    {
      "cell_type": "code",
      "source": [
        "df_iplven.show()"
      ],
      "metadata": {
        "colab": {
          "base_uri": "https://localhost:8080/"
        },
        "id": "15S6d4z_RSAx",
        "outputId": "d6019e8c-3f9a-4b3f-df3b-b7de57ade177"
      },
      "execution_count": 77,
      "outputs": [
        {
          "output_type": "stream",
          "name": "stdout",
          "text": [
            "+--------+--------------------+--------------+\n",
            "|venue_id|               venue|          city|\n",
            "+--------+--------------------+--------------+\n",
            "|       1|Dr. Y.S. Rajasekh...| Visakhapatnam|\n",
            "|       2|Sharjah Cricket S...|       Sharjah|\n",
            "|       3|JSCA Internationa...|        Ranchi|\n",
            "|       4|Saurashtra Cricke...|        Rajkot|\n",
            "|       5|Shaheed Veer Nara...|        Raipur|\n",
            "|       6|Maharashtra Crick...|          Pune|\n",
            "|       7|Subrata Roy Sahar...|          Pune|\n",
            "|       8|    St George's Park|Port Elizabeth|\n",
            "|       9|Vidarbha Cricket ...|        Nagpur|\n",
            "|      12|   Brabourne Stadium|        Mumbai|\n",
            "|      13|Dr DY Patil Sport...|        Mumbai|\n",
            "|      14|    Wankhede Stadium|        Mumbai|\n",
            "|      15|        Eden Gardens|       Kolkata|\n",
            "|      16|       Nehru Stadium|         Kochi|\n",
            "|      17|De Beers Diamond ...|     Kimberley|\n",
            "|      18|          Green Park|        Kanpur|\n",
            "|      19|New Wanderers Sta...|  Johannesburg|\n",
            "|      20|Sawai Mansingh St...|        Jaipur|\n",
            "|      21|Holkar Cricket St...|        Indore|\n",
            "|      22|Rajiv Gandhi Inte...|     Hyderabad|\n",
            "+--------+--------------------+--------------+\n",
            "only showing top 20 rows\n",
            "\n"
          ]
        }
      ]
    },
    {
      "cell_type": "code",
      "source": [
        "vneid = df_iplmat.filter(df_iplmat.match_id == '980999').collect()[0]['venue_id']"
      ],
      "metadata": {
        "id": "1fWtNKx0Raka"
      },
      "execution_count": 78,
      "outputs": []
    },
    {
      "cell_type": "code",
      "source": [
        "df_iplven.filter(df_iplven.venue_id == vneid).show()"
      ],
      "metadata": {
        "colab": {
          "base_uri": "https://localhost:8080/"
        },
        "id": "E2BBXbT5LMGs",
        "outputId": "dd5b6c8a-7452-45cb-f08c-ed890023a845"
      },
      "execution_count": 79,
      "outputs": [
        {
          "output_type": "stream",
          "name": "stdout",
          "text": [
            "+--------+--------------------+---------+\n",
            "|venue_id|               venue|     city|\n",
            "+--------+--------------------+---------+\n",
            "|      35|M.Chinnaswamy Sta...|Bengaluru|\n",
            "+--------+--------------------+---------+\n",
            "\n"
          ]
        }
      ]
    },
    {
      "cell_type": "markdown",
      "source": [
        "**Q10 : Creative Case study:\n",
        "Please analyze how winning/losing tosses can impact a match and it's result? (Marks for Visualization also)**"
      ],
      "metadata": {
        "id": "QX7AL46cX57h"
      }
    },
    {
      "cell_type": "code",
      "source": [
        "df_iplmat.show(10)"
      ],
      "metadata": {
        "colab": {
          "base_uri": "https://localhost:8080/"
        },
        "id": "bdR8AgyERMQk",
        "outputId": "6f8f87e1-a67f-48df-b9ed-83e24e2533d8"
      },
      "execution_count": 80,
      "outputs": [
        {
          "output_type": "stream",
          "name": "stdout",
          "text": [
            "+--------+----------+---------------+--------+-------------+--------------------+--------------------+--------------------+-------------+--------------------+-------+-------------+----------+------+---------+--------------+\n",
            "|match_id|      date|player_of_match|venue_id|neutral_venue|               team1|               team2|         toss_winner|toss_decision|              winner| result|result_margin|eliminator|method|  umpire1|       umpire2|\n",
            "+--------+----------+---------------+--------+-------------+--------------------+--------------------+--------------------+-------------+--------------------+-------+-------------+----------+------+---------+--------------+\n",
            "|  335982|2008-04-18|    BB McCullum|      35|            0|Royal Challengers...|Kolkata Knight Ri...|Royal Challengers...|        field|Kolkata Knight Ri...|   runs|          140|         N|    NA|Asad Rauf|   RE Koertzen|\n",
            "|  335983|2008-04-19|     MEK Hussey|      31|            0|     Kings XI Punjab| Chennai Super Kings| Chennai Super Kings|          bat| Chennai Super Kings|   runs|           33|         N|    NA|MR Benson|    SL Shastri|\n",
            "|  335984|2008-04-19|    MF Maharoof|      27|            0|    Delhi Daredevils|    Rajasthan Royals|    Rajasthan Royals|          bat|    Delhi Daredevils|wickets|            9|         N|    NA|Aleem Dar|GA Pratapkumar|\n",
            "|  335985|2008-04-20|     MV Boucher|      14|            0|      Mumbai Indians|Royal Challengers...|      Mumbai Indians|          bat|Royal Challengers...|wickets|            5|         N|    NA| SJ Davis|     DJ Harper|\n",
            "|  335986|2008-04-20|      DJ Hussey|      15|            0|Kolkata Knight Ri...|     Deccan Chargers|     Deccan Chargers|          bat|Kolkata Knight Ri...|wickets|            5|         N|    NA|BF Bowden|   K Hariharan|\n",
            "|  335987|2008-04-21|      SR Watson|      20|            0|    Rajasthan Royals|     Kings XI Punjab|     Kings XI Punjab|          bat|    Rajasthan Royals|wickets|            6|         N|    NA|Aleem Dar|     RB Tiffin|\n",
            "|  335988|2008-04-22|       V Sehwag|      22|            0|     Deccan Chargers|    Delhi Daredevils|     Deccan Chargers|          bat|    Delhi Daredevils|wickets|            9|         N|    NA|IL Howell|     AM Saheba|\n",
            "|  335989|2008-04-23|      ML Hayden|      29|            0| Chennai Super Kings|      Mumbai Indians|      Mumbai Indians|        field| Chennai Super Kings|   runs|            6|         N|    NA|DJ Harper|GA Pratapkumar|\n",
            "|  335990|2008-04-24|      YK Pathan|      22|            0|     Deccan Chargers|    Rajasthan Royals|    Rajasthan Royals|        field|    Rajasthan Royals|wickets|            3|         N|    NA|Asad Rauf|     MR Benson|\n",
            "|  335991|2008-04-25|  KC Sangakkara|      31|            0|     Kings XI Punjab|      Mumbai Indians|      Mumbai Indians|        field|     Kings XI Punjab|   runs|           66|         N|    NA|Aleem Dar|     AM Saheba|\n",
            "+--------+----------+---------------+--------+-------------+--------------------+--------------------+--------------------+-------------+--------------------+-------+-------------+----------+------+---------+--------------+\n",
            "only showing top 10 rows\n",
            "\n"
          ]
        }
      ]
    },
    {
      "cell_type": "code",
      "source": [
        "import matplotlib.pyplot as plt\n",
        "import seaborn as sns"
      ],
      "metadata": {
        "id": "3dQUzZuGYLKy"
      },
      "execution_count": 81,
      "outputs": []
    },
    {
      "cell_type": "code",
      "source": [
        "\n",
        "mypdf = df_iplmat.toPandas()"
      ],
      "metadata": {
        "id": "o56CKzlQ9Eh4"
      },
      "execution_count": 82,
      "outputs": []
    },
    {
      "cell_type": "code",
      "source": [
        "plt.figure(figsize = (10,6))\n",
        "pdf = mypdf[['team1','team2','toss_winner','toss_decision','winner']]"
      ],
      "metadata": {
        "colab": {
          "base_uri": "https://localhost:8080/",
          "height": 34
        },
        "id": "ICEn1dOR9QVB",
        "outputId": "99c5eb48-c37a-4435-af1c-e91dd674f664"
      },
      "execution_count": 83,
      "outputs": [
        {
          "output_type": "display_data",
          "data": {
            "text/plain": [
              "<Figure size 720x432 with 0 Axes>"
            ]
          },
          "metadata": {}
        }
      ]
    },
    {
      "cell_type": "markdown",
      "source": [
        "**Plot for the matches where Team won the toss**"
      ],
      "metadata": {
        "id": "6GqTGe0YLzR6"
      }
    },
    {
      "cell_type": "code",
      "source": [
        "tosswin = pdf[(pdf['team1'] == pdf['toss_winner']) & (pdf['team1'] == pdf['winner'])].shape[0]\n",
        "tosslos = pdf[(pdf['team1'] == pdf['toss_winner']) & (pdf['team2'] == pdf['winner'])].shape[0]\n",
        "print(tosswin, tosslos)\n",
        "\n",
        "plt.pie([tosswin, tosslos],labels=['win','loss'],autopct='%.0f%%')\n",
        "plt.title(\"Team Won the Toss\")\n",
        "plt.show()"
      ],
      "metadata": {
        "colab": {
          "base_uri": "https://localhost:8080/",
          "height": 282
        },
        "id": "VX5Lb4qThAJU",
        "outputId": "6222c681-9594-4cfb-ae45-0e270fe33399"
      },
      "execution_count": 84,
      "outputs": [
        {
          "output_type": "stream",
          "name": "stdout",
          "text": [
            "221 170\n"
          ]
        },
        {
          "output_type": "display_data",
          "data": {
            "image/png": "[encoded data removed]",
            "text/plain": [
              "<Figure size 432x288 with 1 Axes>"
            ]
          },
          "metadata": {}
        }
      ]
    },
    {
      "cell_type": "markdown",
      "source": [
        "Here this plot shows that teams those who won the toss, 57% times they won the matches as well. Now, Lets deep dive and find out about their winning ratio, when they choose to bat or choose to field."
      ],
      "metadata": {
        "id": "JGiU-yNjiF5u"
      }
    },
    {
      "cell_type": "code",
      "source": [
        "pdfbat = pdf[(pdf['team1'] == pdf['toss_winner']) & (pdf['toss_decision'] == 'bat')]\n",
        "pdfbatwin = pdfbat[pdfbat['team1'] == pdfbat['winner']].shape[0]\n",
        "pdfbatlos = pdfbat.shape[0] - pdfbatwin\n",
        "print(pdfbatwin,pdfbatlos )"
      ],
      "metadata": {
        "colab": {
          "base_uri": "https://localhost:8080/"
        },
        "id": "FuU0WJxC9tqb",
        "outputId": "b48a9260-a9ef-43d8-d8e5-e399bfe9c304"
      },
      "execution_count": 85,
      "outputs": [
        {
          "output_type": "stream",
          "name": "stdout",
          "text": [
            "95 83\n"
          ]
        }
      ]
    },
    {
      "cell_type": "code",
      "source": [
        "plt.pie([pdfbatwin,pdfbatlos],labels=['win','loss'],autopct='%.0f%%')\n",
        "plt.title(\"Team Won the Toss >> Choose to bat\")\n",
        "plt.show()"
      ],
      "metadata": {
        "colab": {
          "base_uri": "https://localhost:8080/",
          "height": 264
        },
        "id": "Sv3a8PeJC92H",
        "outputId": "40df8a9d-52cd-4722-e2ce-17b073ac8a97"
      },
      "execution_count": 86,
      "outputs": [
        {
          "output_type": "display_data",
          "data": {
            "image/png": "[encoded data removed]",
            "text/plain": [
              "<Figure size 432x288 with 1 Axes>"
            ]
          },
          "metadata": {}
        }
      ]
    },
    {
      "cell_type": "markdown",
      "source": [
        "Plot for the matches where Team won the toss , and choose to **field**. The below two plot is drawn on this base. \n"
      ],
      "metadata": {
        "id": "dnBRpsFXL7JU"
      }
    },
    {
      "cell_type": "code",
      "source": [
        "pdffie = pdf[(pdf['team1'] == pdf['toss_winner']) & (pdf['toss_decision'] == 'field')]\n",
        "pdffiewin = pdffie[pdffie['team1'] == pdffie['winner']].shape[0]\n",
        "pdffielos = pdffie.shape[0] - pdffiewin\n",
        "print(pdffiewin,pdffielos)"
      ],
      "metadata": {
        "colab": {
          "base_uri": "https://localhost:8080/"
        },
        "id": "k396LLT1Dazm",
        "outputId": "8557177d-044b-437b-99ab-61cc6a3b2e53"
      },
      "execution_count": 87,
      "outputs": [
        {
          "output_type": "stream",
          "name": "stdout",
          "text": [
            "126 89\n"
          ]
        }
      ]
    },
    {
      "cell_type": "code",
      "source": [
        "plt.pie([pdffiewin,pdffielos],labels=['win','loss'],autopct='%.0f%%')\n",
        "plt.title(\"Team Won the Toss >> Choose to Field\")\n",
        "plt.show()"
      ],
      "metadata": {
        "colab": {
          "base_uri": "https://localhost:8080/",
          "height": 264
        },
        "id": "niJwtMcYH-yN",
        "outputId": "a15e5e28-8222-4000-9b39-7a8aa791335d"
      },
      "execution_count": 88,
      "outputs": [
        {
          "output_type": "display_data",
          "data": {
            "image/png": "[encoded data removed]",
            "text/plain": [
              "<Figure size 432x288 with 1 Axes>"
            ]
          },
          "metadata": {}
        }
      ]
    },
    {
      "cell_type": "markdown",
      "source": [
        "So, with these above two plots we can simply say that if the team won the toss and choose to bat the ratio is not much very inclined towards one particular situation. but in case of choose to field, its around 60-40 ratio."
      ],
      "metadata": {
        "id": "07I_vWQncM39"
      }
    },
    {
      "cell_type": "markdown",
      "source": [
        "**Plot for the matches where Team Lost the toss**\n",
        "\n",
        "This is similar to the above but the only difference is of loosing the toss. So, We can directly say from the above plots itself, about the teams that lost the toss. "
      ],
      "metadata": {
        "id": "9haY3-4odTaD"
      }
    },
    {
      "cell_type": "code",
      "source": [
        "team1win = pdf[pdf['team1'] == pdf['toss_winner']]\n",
        "teamlosswin = team1win[team1win['team2'] == team1win['winner']].shape[0]\n",
        "teamlossloss = team1win[team1win['team2'] != team1win['winner']].shape[0]\n",
        "print(teamlosswin,teamlossloss)"
      ],
      "metadata": {
        "colab": {
          "base_uri": "https://localhost:8080/"
        },
        "id": "DGLKYV_8IG2P",
        "outputId": "1a3cc19c-5b12-4763-def8-86f85ee776f9"
      },
      "execution_count": 89,
      "outputs": [
        {
          "output_type": "stream",
          "name": "stdout",
          "text": [
            "170 223\n"
          ]
        }
      ]
    },
    {
      "cell_type": "code",
      "source": [
        "pdf[pdf.winner == 'NA']"
      ],
      "metadata": {
        "colab": {
          "base_uri": "https://localhost:8080/",
          "height": 174
        },
        "id": "bFdBfYzvk3Y9",
        "outputId": "1f975a3d-1953-44e2-ee0e-f8c134b63a51"
      },
      "execution_count": 90,
      "outputs": [
        {
          "output_type": "execute_result",
          "data": {
            "text/html": [
              "\n",
              "  <div id=\"df-89bcb96b-3289-499e-9990-da1f32c3c1e9\">\n",
              "    <div class=\"colab-df-container\">\n",
              "      <div>\n",
              "<style scoped>\n",
              "    .dataframe tbody tr th:only-of-type {\n",
              "        vertical-align: middle;\n",
              "    }\n",
              "\n",
              "    .dataframe tbody tr th {\n",
              "        vertical-align: top;\n",
              "    }\n",
              "\n",
              "    .dataframe thead th {\n",
              "        text-align: right;\n",
              "    }\n",
              "</style>\n",
              "<table border=\"1\" class=\"dataframe\">\n",
              "  <thead>\n",
              "    <tr style=\"text-align: right;\">\n",
              "      <th></th>\n",
              "      <th>team1</th>\n",
              "      <th>team2</th>\n",
              "      <th>toss_winner</th>\n",
              "      <th>toss_decision</th>\n",
              "      <th>winner</th>\n",
              "    </tr>\n",
              "  </thead>\n",
              "  <tbody>\n",
              "    <tr>\n",
              "      <th>241</th>\n",
              "      <td>Delhi Daredevils</td>\n",
              "      <td>Pune Warriors</td>\n",
              "      <td>Delhi Daredevils</td>\n",
              "      <td>bat</td>\n",
              "      <td>NA</td>\n",
              "    </tr>\n",
              "    <tr>\n",
              "      <th>486</th>\n",
              "      <td>Royal Challengers Bangalore</td>\n",
              "      <td>Rajasthan Royals</td>\n",
              "      <td>Rajasthan Royals</td>\n",
              "      <td>field</td>\n",
              "      <td>NA</td>\n",
              "    </tr>\n",
              "    <tr>\n",
              "      <th>511</th>\n",
              "      <td>Royal Challengers Bangalore</td>\n",
              "      <td>Delhi Daredevils</td>\n",
              "      <td>Royal Challengers Bangalore</td>\n",
              "      <td>field</td>\n",
              "      <td>NA</td>\n",
              "    </tr>\n",
              "    <tr>\n",
              "      <th>744</th>\n",
              "      <td>Royal Challengers Bangalore</td>\n",
              "      <td>Rajasthan Royals</td>\n",
              "      <td>Rajasthan Royals</td>\n",
              "      <td>field</td>\n",
              "      <td>NA</td>\n",
              "    </tr>\n",
              "  </tbody>\n",
              "</table>\n",
              "</div>\n",
              "      <button class=\"colab-df-convert\" onclick=\"convertToInteractive('df-89bcb96b-3289-499e-9990-da1f32c3c1e9')\"\n",
              "              title=\"Convert this dataframe to an interactive table.\"\n",
              "              style=\"display:none;\">\n",
              "        \n",
              "  <svg xmlns=\"http://www.w3.org/2000/svg\" height=\"24px\"viewBox=\"0 0 24 24\"\n",
              "       width=\"24px\">\n",
              "    <path d=\"M0 0h24v24H0V0z\" fill=\"none\"/>\n",
              "    <path d=\"M18.56 5.44l.94 2.06.94-2.06 2.06-.94-2.06-.94-.94-2.06-.94 2.06-2.06.94zm-11 1L8.5 8.5l.94-2.06 2.06-.94-2.06-.94L8.5 2.5l-.94 2.06-2.06.94zm10 10l.94 2.06.94-2.06 2.06-.94-2.06-.94-.94-2.06-.94 2.06-2.06.94z\"/><path d=\"M17.41 7.96l-1.37-1.37c-.4-.4-.92-.59-1.43-.59-.52 0-1.04.2-1.43.59L10.3 9.45l-7.72 7.72c-.78.78-.78 2.05 0 2.83L4 21.41c.39.39.9.59 1.41.59.51 0 1.02-.2 1.41-.59l7.78-7.78 2.81-2.81c.8-.78.8-2.07 0-2.86zM5.41 20L4 18.59l7.72-7.72 1.47 1.35L5.41 20z\"/>\n",
              "  </svg>\n",
              "      </button>\n",
              "      \n",
              "  <style>\n",
              "    .colab-df-container {\n",
              "      display:flex;\n",
              "      flex-wrap:wrap;\n",
              "      gap: 12px;\n",
              "    }\n",
              "\n",
              "    .colab-df-convert {\n",
              "      background-color: #E8F0FE;\n",
              "      border: none;\n",
              "      border-radius: 50%;\n",
              "      cursor: pointer;\n",
              "      display: none;\n",
              "      fill: #1967D2;\n",
              "      height: 32px;\n",
              "      padding: 0 0 0 0;\n",
              "      width: 32px;\n",
              "    }\n",
              "\n",
              "    .colab-df-convert:hover {\n",
              "      background-color: #E2EBFA;\n",
              "      box-shadow: 0px 1px 2px rgba(60, 64, 67, 0.3), 0px 1px 3px 1px rgba(60, 64, 67, 0.15);\n",
              "      fill: #174EA6;\n",
              "    }\n",
              "\n",
              "    [theme=dark] .colab-df-convert {\n",
              "      background-color: #3B4455;\n",
              "      fill: #D2E3FC;\n",
              "    }\n",
              "\n",
              "    [theme=dark] .colab-df-convert:hover {\n",
              "      background-color: #434B5C;\n",
              "      box-shadow: 0px 1px 3px 1px rgba(0, 0, 0, 0.15);\n",
              "      filter: drop-shadow(0px 1px 2px rgba(0, 0, 0, 0.3));\n",
              "      fill: #FFFFFF;\n",
              "    }\n",
              "  </style>\n",
              "\n",
              "      <script>\n",
              "        const buttonEl =\n",
              "          document.querySelector('#df-89bcb96b-3289-499e-9990-da1f32c3c1e9 button.colab-df-convert');\n",
              "        buttonEl.style.display =\n",
              "          google.colab.kernel.accessAllowed ? 'block' : 'none';\n",
              "\n",
              "        async function convertToInteractive(key) {\n",
              "          const element = document.querySelector('#df-89bcb96b-3289-499e-9990-da1f32c3c1e9');\n",
              "          const dataTable =\n",
              "            await google.colab.kernel.invokeFunction('convertToInteractive',\n",
              "                                                     [key], {});\n",
              "          if (!dataTable) return;\n",
              "\n",
              "          const docLinkHtml = 'Like what you see? Visit the ' +\n",
              "            '<a target=\"_blank\" href=https://colab.research.google.com/notebooks/data_table.ipynb>data table notebook</a>'\n",
              "            + ' to learn more about interactive tables.';\n",
              "          element.innerHTML = '';\n",
              "          dataTable['output_type'] = 'display_data';\n",
              "          await google.colab.output.renderOutput(dataTable, element);\n",
              "          const docLink = document.createElement('div');\n",
              "          docLink.innerHTML = docLinkHtml;\n",
              "          element.appendChild(docLink);\n",
              "        }\n",
              "      </script>\n",
              "    </div>\n",
              "  </div>\n",
              "  "
            ],
            "text/plain": [
              "                           team1             team2  \\\n",
              "241             Delhi Daredevils     Pune Warriors   \n",
              "486  Royal Challengers Bangalore  Rajasthan Royals   \n",
              "511  Royal Challengers Bangalore  Delhi Daredevils   \n",
              "744  Royal Challengers Bangalore  Rajasthan Royals   \n",
              "\n",
              "                     toss_winner toss_decision winner  \n",
              "241             Delhi Daredevils           bat     NA  \n",
              "486             Rajasthan Royals         field     NA  \n",
              "511  Royal Challengers Bangalore         field     NA  \n",
              "744             Rajasthan Royals         field     NA  "
            ]
          },
          "metadata": {},
          "execution_count": 90
        }
      ]
    },
    {
      "cell_type": "code",
      "source": [
        "teamlosswin = pdf[(pdf['team1'] == pdf['toss_winner']) &  (pdf['winner'] != 'NA') & (pdf['team2'] != pdf['winner'])].shape[0]\n",
        "teamlossloss = pdf[(pdf['team1'] == pdf['toss_winner']) &  (pdf['winner'] != 'NA') & (pdf['team1'] != pdf['winner']) ].shape[0]\n",
        "plt.pie([teamlosswin,teamlossloss],labels=['win','loss'],autopct='%.0f%%')\n",
        "plt.title(\"Team Lost the Toss\")\n",
        "plt.show()"
      ],
      "metadata": {
        "colab": {
          "base_uri": "https://localhost:8080/",
          "height": 264
        },
        "id": "BotZhZeylN6b",
        "outputId": "afb29e83-e510-4901-9463-a311138883b4"
      },
      "execution_count": 91,
      "outputs": [
        {
          "output_type": "display_data",
          "data": {
            "image/png": "[encoded data removed]",
            "text/plain": [
              "<Figure size 432x288 with 1 Axes>"
            ]
          },
          "metadata": {}
        }
      ]
    },
    {
      "cell_type": "markdown",
      "source": [
        "Now, Here we can see that if the team has lost the toss, won more no of matches. It is 57% times when they won the match despite loosing the toss."
      ],
      "metadata": {
        "id": "IC4fmfalxnHi"
      }
    },
    {
      "cell_type": "markdown",
      "source": [
        "#Section 3"
      ],
      "metadata": {
        "id": "fg05YOozs4Ko"
      }
    },
    {
      "cell_type": "code",
      "source": [
        "import sqlite3\n",
        "import pandas as pd\n",
        "\n",
        "dbase = sqlite3.connect('/content/drive/MyDrive/data.db')\n",
        "c = dbase.cursor()"
      ],
      "metadata": {
        "id": "58mkkDkrCgVc"
      },
      "execution_count": 109,
      "outputs": []
    },
    {
      "cell_type": "code",
      "source": [
        "def TableCreation():\n",
        "  c.execute('''CREATE TABLE IF NOT EXISTS ipl_mathist (match_id,date,\n",
        "  player_of_match,venue_id,neutral_venue,team1,team2,toss_winner,toss_decision,\n",
        "  winner,result,result_margin,eliminator,method,umpire1,umpire2)''')\n",
        "\n",
        "  c.execute('''CREATE TABLE IF NOT EXISTS ipl_matbbb (match_id,inning,overs,ball, batsman, non_striker,\n",
        "  bowler,batsman_runs,extra_runs,total_runs,non_boundary,is_wicket,dismissal_kind, player_dismissed, fielder,\n",
        "  extras_type, batting_team, bowling_team)''')\n",
        "\n",
        "  c.execute('''CREATE TABLE IF NOT EXISTS ipl_matven (venue_id, venue, city)''')\n",
        "  \n",
        "  iplmatch = pd.read_csv('/content/drive/MyDrive/Colab-Data/ipl_matches.csv')\n",
        "  iplmatch.to_sql('ipl_mathist', dbase, if_exists='append', index = False)\n",
        "\n",
        "  iplbbb = pd.read_csv('/content/drive/MyDrive/Colab-Data/ipl_ball_by_ball.csv')\n",
        "  iplbbb.to_sql('ipl_matbbb', dbase, if_exists='append', index = False, chunksize = 10000)\n",
        "\n",
        "  iplven = pd.read_csv('/content/drive/MyDrive/Colab-Data/ipl_venue.csv')\n",
        "  iplven.to_sql('ipl_matven', dbase, if_exists='append', index = False)\n",
        "  \n",
        "  return print(\"Three tables have been created with following names \\n 1. ipl_mathist \\n 2. ipl_matbbb \\n 3. ipl_matven\")"
      ],
      "metadata": {
        "id": "0XHLsaYLgqq_"
      },
      "execution_count": 110,
      "outputs": []
    },
    {
      "cell_type": "code",
      "source": [
        "def ReadDFReg():\n",
        "\n",
        "  df_mat = pd.read_sql('''SELECT * FROM ipl_mathist''', dbase)\n",
        "  df_bbb = pd.read_sql('''SELECT * FROM ipl_matbbb''', dbase)\n",
        "  df_ven = pd.read_sql('''SELECT * FROM ipl_matven''', dbase)\n",
        "\n",
        "  df_iplmat=spark.createDataFrame(df_mat) \n",
        "  df_iplbbb=spark.createDataFrame(df_bbb) \n",
        "  df_iplven=spark.createDataFrame(df_ven) \n",
        "\n",
        "  df_iplbbb.registerTempTable(\"DF_IPL_BBB\")\n",
        "  df_iplmat.registerTempTable(\"DF_IPL_MAT\")\n",
        "  df_iplven.registerTempTable(\"DF_IPL_VEN\")\n",
        "\n",
        "  return print(\"Three DF have been fetched from database named as df_iplmat, df_iplbbb and df_iplven\")"
      ],
      "metadata": {
        "id": "lUO1bVO-fZqu"
      },
      "execution_count": 111,
      "outputs": []
    },
    {
      "cell_type": "code",
      "source": [
        "import sqlite3\n",
        "import pandas as pd\n",
        "import numpy as np\n",
        "from pyspark.sql.functions import desc\n",
        "import matplotlib.pyplot as plt\n",
        "import seaborn as sns\n"
      ],
      "metadata": {
        "id": "jVQJZ1LJ7UkW"
      },
      "execution_count": 112,
      "outputs": []
    },
    {
      "cell_type": "code",
      "source": [
        "def getquery1():\n",
        "  df_mat_elem_Y = df_iplmat.filter(df_iplmat.eliminator == 'Y')\n",
        "\n",
        "  ids = df_mat_elem_Y.select(\"venue_id\").collect()\n",
        "  max_ele = max(set(ids), key = ids.count)\n",
        "  qry1ans = df_iplven.filter(df_iplven.venue_id.contains(25)).show()\n",
        "\n",
        "  return qry1ans"
      ],
      "metadata": {
        "id": "3wFCvYhC-5WO"
      },
      "execution_count": 113,
      "outputs": []
    },
    {
      "cell_type": "code",
      "source": [
        "def getquery2():\n",
        "  df_bbb_caught_only = df_iplbbb.filter(df_iplbbb.dismissal_kind == 'caught')\n",
        "  df_bbb_caught_bowled = df_iplbbb.filter(df_iplbbb.dismissal_kind.contains(\"caught\"))\n",
        "\n",
        "  ids_co = df_bbb_caught_only.select(\"bowler\").collect()\n",
        "  ids_cb = df_bbb_caught_bowled.select(\"bowler\").collect()\n",
        "\n",
        "  bowler_max_CO = max(set(ids_co), key = ids_co.count)\n",
        "  bowler_max_CB = max(set(ids_cb), key = ids_cb.count)\n",
        "\n",
        "  if bowler_max_CO[0] == bowler_max_CB[0]:\n",
        "    pp = 'also'\n",
        "  else:\n",
        "    pp = \"\"\n",
        "\n",
        "  return print(\"Most wicket taker by only catches is : {} \\n and Most wicket taker by catches and bowled together\\\n",
        "  is \"+pp+\" : {}\".format(bowler_max_CO[0] , bowler_max_CB[0]))\n"
      ],
      "metadata": {
        "id": "yhPvt9SlHul7"
      },
      "execution_count": 114,
      "outputs": []
    },
    {
      "cell_type": "code",
      "source": [
        "def getquery3():\n",
        "  df_mat_DL = df_iplmat.filter(df_iplmat.method == 'D/L')\n",
        "\n",
        "  DLIds = df_mat_DL.select(df_mat_DL['match_id']).rdd.flatMap(lambda x:x).collect()\n",
        "  df_DL = df_iplbbb.filter((df_iplbbb.match_id).isin(DLIds))\n",
        "  df_DL_wic = df_DL.filter(df_DL.is_wicket == 1)\n",
        "\n",
        "  bow = df_DL_wic.select('bowler').distinct().collect()\n",
        "  bow_name = df_DL_wic.select(df_DL_wic['bowler']).rdd.flatMap(lambda x:x).collect()\n",
        "\n",
        "  DL_Max_Wic_Bowler = max(set(bow_name), key = bow_name.count)\n",
        "  print(\"The most wicket taker in D/L matches is {}\".format(DL_Max_Wic_Bowler))\n",
        "\n",
        "  frequency = {}\n",
        "  print(\"Maximum Wickets takers by Catch bowlers report (in DLS Matches) \\n\")\n",
        "  for item in bow_name:\n",
        "    if item in frequency:\n",
        "        frequency[item] += 1\n",
        "    else:\n",
        "        frequency[item] = 1\n",
        "  def printresults():\n",
        "    k = 0\n",
        "    for w in sorted(frequency, key=frequency.get, reverse=True):\n",
        "        print(w,\">>\",frequency[w], \" Wicket/s\")\n",
        "        if k>10:\n",
        "          break\n",
        "        k+=1\n",
        "    return print(\"These are top 10 bowlers with most wickets in DLS\")\n",
        "  return printresults()\n",
        "getquery3()"
      ],
      "metadata": {
        "colab": {
          "base_uri": "https://localhost:8080/"
        },
        "id": "XpVIzGUoIPnb",
        "outputId": "06937ab9-667f-4e9b-b1bf-59515690ff3c"
      },
      "execution_count": 115,
      "outputs": [
        {
          "output_type": "stream",
          "name": "stdout",
          "text": [
            "The most wicket taker in D/L matches is AB Dinda\n",
            "Maximum Wickets takers by Catch bowlers report (in DLS Matches) \n",
            "\n",
            "R Ashwin >> 8  Wicket/s\n",
            "AB Dinda >> 8  Wicket/s\n",
            "MC Henriques >> 7  Wicket/s\n",
            "B Kumar >> 6  Wicket/s\n",
            "TA Boult >> 5  Wicket/s\n",
            "L Balaji >> 5  Wicket/s\n",
            "JD Unadkat >> 5  Wicket/s\n",
            "DL Vettori >> 5  Wicket/s\n",
            "A Mishra >> 4  Wicket/s\n",
            "PP Chawla >> 4  Wicket/s\n",
            "M Ntini >> 4  Wicket/s\n",
            "YS Chahal >> 4  Wicket/s\n",
            "These are top 10 bowlers with most wickets in DLS\n"
          ]
        }
      ]
    },
    {
      "cell_type": "code",
      "source": [
        "def getquery4():\n",
        "  df_NP_Bat_Runs = df_iplbbb.filter(df_iplbbb.overs >=7).select(['batsman', 'batsman_runs'])\n",
        "\n",
        "  players = df_NP_Bat_Runs.select('batsman').rdd.flatMap(lambda x: x).collect()\n",
        "  uni_players = np.unique(players)\n",
        "\n",
        "  max_scorer_player = \"\"\n",
        "  max_strike_rate = -1\n",
        "  player_score_Data = {}\n",
        "  for player in uni_players:\n",
        "    rate = ((df_NP_Bat_Runs.filter(df_NP_Bat_Runs.batsman == player).agg({'batsman_runs': 'sum'}).collect()[0][0]) /  \\\n",
        "          (df_NP_Bat_Runs.filter(df_NP_Bat_Runs.batsman == player).count()))\n",
        "    if rate > max_strike_rate:\n",
        "      max_strike_rate = rate\n",
        "      max_scorer_player = player\n",
        "  \n",
        "  return print(\"The Player with maximum strike rate in the Non Powerplay overs is : {} with \\\n",
        "   rate of {} %\".format(max_scorer_player, max_strike_rate*100))"
      ],
      "metadata": {
        "id": "K3A8b9J-Jbkj"
      },
      "execution_count": 116,
      "outputs": []
    },
    {
      "cell_type": "code",
      "source": [
        "def getquery5():\n",
        "  df_extra_runs = df_iplbbb.filter(df_iplbbb.extra_runs > 0)\n",
        "  matches = df_iplbbb.select('match_id').rdd.flatMap(lambda x: x).collect()\n",
        "  matches = np.unique(matches)\n",
        "\n",
        "  Matches_Extras = []\n",
        "  for match in matches:\n",
        "    extsum = df_extra_runs.filter(df_extra_runs.match_id == int(match)).agg({'extra_runs': 'sum'}).collect()[0][0]\n",
        "    tup = (int(match), extsum)\n",
        "    Matches_Extras.append(tup)\n",
        "\n",
        "  columns = [\"match_id\",\"extra_runs_total\"]\n",
        "  Match_Ext_df = spark.createDataFrame(Matches_Extras, columns)\n",
        "  Match_Ext_df = Match_Ext_df.orderBy('match_id')\n",
        "  df_iplmat = df_iplmat.orderBy(\"match_id\")\n",
        "  df_iplmat = df_iplmat.withColumn(\"match_id\", df_iplmat[\"match_id\"].cast(\"int\"))\n",
        "  Match_Ext_df = Match_Ext_df.withColumn(\"match_id\", Match_Ext_df[\"match_id\"].cast(\"int\"))\n",
        "\n",
        "  df_iplmat = df_iplmat.orderBy(\"match_id\")\n",
        "  Match_Ext_df = Match_Ext_df.orderBy(\"match_id\")\n",
        "\n",
        "  vids = df_iplven.select('venue_id').rdd.flatMap(lambda x: x).collect()\n",
        "\n",
        "  vid_exruns = []\n",
        "  for id in vids:\n",
        "    ven_matches = df_iplmat.filter(df_iplmat.venue_id == int(id)).select(df_iplmat['match_id']).rdd.flatMap(lambda x: x).collect()\n",
        "    verun = Match_Ext_df.filter(Match_Ext_df.match_id.isin(ven_matches)).rdd.map(lambda x: (1,x[1])).reduceByKey(lambda x,y: x + y).collect()[0][1]\n",
        "    venname = df_iplven.filter(df_iplven.venue_id == id).collect()[0][1]\n",
        "    viextup = (str(venname), int(verun))\n",
        "    vid_exruns.append(viextup)\n",
        "\n",
        "  vid_run_df = spark.createDataFrame(vid_exruns, ['Venue_ID', 'Runs'])\n",
        "  vid_run_df = vid_run_df.orderBy(desc('Runs'))\n",
        "\n",
        "  return vid_run_df.show()"
      ],
      "metadata": {
        "id": "lIlQjLaxJ58A"
      },
      "execution_count": 117,
      "outputs": []
    },
    {
      "cell_type": "code",
      "source": [
        "def getquery6():\n",
        "\n",
        "  neu_ven = df_iplmat.filter(df_iplmat['neutral_venue'] ==1)\n",
        "  print(neu_ven.count())\n",
        "  neu_ven_pom = neu_ven.cube('player_of_match').count()\n",
        "  \n",
        "  qr6 = neu_ven_pom.orderBy(desc('count'))\n",
        "\n",
        "  return qr6.show(10)"
      ],
      "metadata": {
        "id": "osAZSwNMOzpO"
      },
      "execution_count": 118,
      "outputs": []
    },
    {
      "cell_type": "code",
      "source": [
        "def getquery7():\n",
        "  sub_df = df_iplbbb.select(df_iplbbb[\"match_id\"],df_iplbbb[\"batsman\"],df_iplbbb['non_striker'],df_iplbbb[\"batsman_runs\"],df_iplbbb['extra_runs'],\\\n",
        "                            df_iplbbb['total_runs'],df_iplbbb[\"is_wicket\"],df_iplbbb[\"dismissal_kind\"],df_iplbbb[\"player_dismissed\"])\n",
        "  \n",
        "  uni_players = np.unique(df_iplbbb.select('batsman').rdd.flatMap(lambda x: x).collect())\n",
        "\n",
        "  aggrun_batsman = []\n",
        "  for player in uni_players:\n",
        "    aggrun = df_iplbbb.filter(df_iplbbb.batsman == player ).agg({'batsman_runs': 'sum'}).collect()[0][0]\n",
        "    tupp = (str(player), int(aggrun))\n",
        "    aggrun_batsman.append(tupp)\n",
        "\n",
        "  bats_aggrun = spark.createDataFrame(aggrun_batsman, ['player', 'Agg_Runs'])\n",
        "  bats_aggrun = bats_aggrun.orderBy('player')\n",
        "\n",
        "  wic_balls = df_iplbbb.filter(df_iplbbb.is_wicket == 1)\n",
        "\n",
        "\n",
        "  player_wics = []\n",
        "  for plr in uni_players:\n",
        "    plr_wics = wic_balls.filter(wic_balls.player_dismissed == plr).count()\n",
        "    ptu = (str(plr), int(plr_wics))\n",
        "    player_wics.append(ptu)\n",
        "\n",
        "  player_wics = spark.createDataFrame(player_wics,['Player','tot_outs'])\n",
        "\n",
        "  batt_Avg = []\n",
        "  for i in range(len(uni_players)):\n",
        "    runs = bats_aggrun.collect()[i][1]\n",
        "    wickets = player_wics.collect()[i][1]\n",
        "    if wickets == 0:\n",
        "      runs = 0  # Since the batting avg can't be calculated we can simply draw it as 0.\n",
        "      wickets = 1\n",
        "    plr_avg = runs / wickets\n",
        "    plr_nm = bats_aggrun.collect()[i][0]\n",
        "    plr_sc = (str(plr_nm) , float(plr_avg))\n",
        "    batt_Avg.append(plr_sc)\n",
        "\n",
        "  batt_Avg = spark.createDataFrame(batt_Avg, ['player', 'batting_average'])\n",
        "  batt_Avg = batt_Avg.orderBy(desc('batting_average'))\n",
        "  \n",
        "  qr7 = batt_Avg.orderBy(desc('batting_average'))\n",
        "\n",
        "  return qr7.show()"
      ],
      "metadata": {
        "id": "YUXGprg9PD_N"
      },
      "execution_count": 119,
      "outputs": []
    },
    {
      "cell_type": "code",
      "source": [
        "def getquery8():\n",
        "  ump1 = df_iplmat.select(df_iplmat['umpire1']).rdd.flatMap(lambda x: x).collect()\n",
        "  ump2 = df_iplmat.select(df_iplmat['umpire2']).rdd.flatMap(lambda x: x).collect()\n",
        "  umpires = ump1 + ump2\n",
        "\n",
        "  def maxFreq(arr):\n",
        "    n = len(arr)\n",
        "    res = 0\n",
        "    count = 1\n",
        "      \n",
        "    for i in range(1, n):\n",
        "        if (arr[i] == arr[res]):\n",
        "            count += 1\n",
        "        else:\n",
        "            count -= 1\n",
        "\n",
        "        if (count == 0):\n",
        "            res = i\n",
        "            count = 1\n",
        "          \n",
        "    return arr[res]\n",
        "\n",
        "  freq = maxFreq(umpires)\n",
        "\n",
        "  count = 0\n",
        "  for i in range(len(umpires)):\n",
        "          if(umpires[i] == freq):\n",
        "              count += 1\n",
        "          \n",
        "  print(\"Umpire \", freq,\" Officiated the maximum matches in IPL with a count of \", count, \" matches in given timeline\")\n",
        "\n",
        "getquery8()"
      ],
      "metadata": {
        "colab": {
          "base_uri": "https://localhost:8080/"
        },
        "id": "_TZ8im8KPEVo",
        "outputId": "009a67b1-a726-4f2b-b303-90d3bffba456"
      },
      "execution_count": 120,
      "outputs": [
        {
          "output_type": "stream",
          "name": "stdout",
          "text": [
            "Umpire  S Ravi  Officiated the maximum matches in IPL with a count of  121  matches in given timeline\n"
          ]
        }
      ]
    },
    {
      "cell_type": "code",
      "source": [
        "def getquery9():\n",
        "  vkohli_df = df_iplbbb.filter(df_iplbbb.batsman == \"V Kohli\")\n",
        "  vk_ind_mat = vkohli_df.select(vkohli_df['match_id']).rdd.flatMap(lambda x:x).collect()\n",
        "  vk_ind_mat = np.unique(vk_ind_mat)\n",
        "  vkohli_df = vkohli_df.select(vkohli_df['match_id'], vkohli_df['batsman_runs'])\n",
        "\n",
        "  vk_ind_score = []\n",
        "  for match in vk_ind_mat:\n",
        "    runs  = vkohli_df.filter(vkohli_df.match_id == int(match)).agg({'batsman_runs':'sum'}).collect()[0][0]\n",
        "    vktup = (str(match),runs)\n",
        "    vk_ind_score.append(vktup)\n",
        "\n",
        "  vk_ind_score = spark.createDataFrame(vk_ind_score,['Match_Id', 'Score'])\n",
        "  vk_ind_score = vk_ind_score.orderBy(desc('Score'))\n",
        "\n",
        "  vneid = df_iplmat.filter(df_iplmat.match_id == vk_ind_score.collect()[0][0]).collect()[0]['venue_id']\n",
        "\n",
        "  qr9 = df_iplven.filter(df_iplven.venue_id == vneid)\n",
        "\n",
        "  return qr9.show()"
      ],
      "metadata": {
        "id": "yf8bbo_ePEnk"
      },
      "execution_count": 121,
      "outputs": []
    },
    {
      "cell_type": "code",
      "source": [
        "def getquery10():\n",
        "  mypdf = df_iplmat.toPandas()\n",
        "  pdf = mypdf[['team1','team2','toss_winner','toss_decision','winner']]\n",
        "\n",
        "  tosswin = pdf[(pdf['team1'] == pdf['toss_winner']) & (pdf['team1'] == pdf['winner'])].shape[0]\n",
        "  tosslos = pdf[(pdf['team1'] == pdf['toss_winner']) & (pdf['team2'] == pdf['winner'])].shape[0]\n",
        "  print(tosswin, tosslos)\n",
        "\n",
        "  plt.pie([tosswin, tosslos],labels=['win','loss'],autopct='%.0f%%')\n",
        "  plt.title(\"Team Won the Toss\")\n",
        "  plt.show()\n",
        "\n",
        "\n",
        "  pdfbat = pdf[(pdf['team1'] == pdf['toss_winner']) & (pdf['toss_decision'] == 'bat')]\n",
        "  pdfbatwin = pdfbat[pdfbat['team1'] == pdfbat['winner']].shape[0]\n",
        "  pdfbatlos = pdfbat.shape[0] - pdfbatwin\n",
        "  print(pdfbatwin,pdfbatlos )\n",
        "\n",
        "  plt.pie([pdfbatwin,pdfbatlos],labels=['win','loss'],autopct='%.0f%%')\n",
        "  plt.title(\"Team Won the Toss >> Choose to bat\")\n",
        "  plt.show()\n",
        "\n",
        "\n",
        "  pdffie = pdf[(pdf['team1'] == pdf['toss_winner']) & (pdf['toss_decision'] == 'field')]\n",
        "  pdffiewin = pdffie[pdffie['team1'] == pdffie['winner']].shape[0]\n",
        "  pdffielos = pdffie.shape[0] - pdffiewin\n",
        "  print(pdffiewin,pdffielos)\n",
        "\n",
        "  plt.pie([pdffiewin,pdffielos],labels=['win','loss'],autopct='%.0f%%')\n",
        "  plt.title(\"Team Won the Toss >> Choose to Field\")\n",
        "  plt.show()\n",
        "\n",
        "  team1win = pdf[pdf['team1'] == pdf['toss_winner']]\n",
        "  teamlosswin = team1win[team1win['team2'] == team1win['winner']].shape[0]\n",
        "  teamlossloss = team1win[team1win['team2'] != team1win['winner']].shape[0]\n",
        "  print(teamlosswin,teamlossloss)\n",
        "\n",
        "  teamlosswin = pdf[(pdf['team1'] == pdf['toss_winner']) &  (pdf['winner'] != 'NA') & (pdf['team2'] != pdf['winner'])].shape[0]\n",
        "  teamlossloss = pdf[(pdf['team1'] == pdf['toss_winner']) &  (pdf['winner'] != 'NA') & (pdf['team1'] != pdf['winner']) ].shape[0]\n",
        "  plt.pie([teamlosswin,teamlossloss],labels=['win','loss'],autopct='%.0f%%')\n",
        "  plt.title(\"Team Lost the Toss\")\n",
        "  plt.show()"
      ],
      "metadata": {
        "id": "5qcl3-5yPE3d"
      },
      "execution_count": 122,
      "outputs": []
    },
    {
      "cell_type": "code",
      "source": [
        "class Database:\n",
        "\n",
        "  def __init__(self):\n",
        "\n",
        "    db = sqlite3.connect('/content/drive/MyDrive/data.db')\n",
        "    c = db.cursor()\n",
        "  \n",
        "    TableCreation()   #Pre defined method to create the tables for the all three datasets\n",
        "    ReadDFReg()   #Reading the data and registering them as pyspark tables\n",
        "\n",
        "\n",
        "  #Here are the methods to get the results, Individual line by line code is in section 2 whereas the complete method is defined in the section 3 itself. \n",
        "\n",
        "  def get_query1_result(self):\n",
        "    return getquery1()\n",
        "  def get_query2_result(self):\n",
        "    return getquery2()\n",
        "  def get_query3_result(self):\n",
        "    return getquery3()\n",
        "  def get_query4_result(self):\n",
        "    return getquery4()\n",
        "  def get_query5_result(self):\n",
        "    return getquery5()\n",
        "  def get_query6_result(self):\n",
        "    return getquery6()\n",
        "  def get_query7_result(self):\n",
        "    return getquery7()\n",
        "  def get_query8_result(self):\n",
        "    return getquery8()\n",
        "  def get_query9_result(self):\n",
        "    return getquery9()\n",
        "  def get_query10_result(self):\n",
        "    print(\"These below plots shows that on winning the toss what are the chances to win the match, \\\n",
        "    similarly on loosing the toss, what are the chances to win or loose the match.\")\n",
        "    return getquery10()\n"
      ],
      "metadata": {
        "id": "YSYx4XzzlPRL"
      },
      "execution_count": 123,
      "outputs": []
    },
    {
      "cell_type": "code",
      "source": [
        "db = Database()"
      ],
      "metadata": {
        "colab": {
          "base_uri": "https://localhost:8080/"
        },
        "id": "PFQcj-omUMip",
        "outputId": "fab7cbbf-99cf-4675-db80-95be6a46cb83"
      },
      "execution_count": 124,
      "outputs": [
        {
          "output_type": "stream",
          "name": "stdout",
          "text": [
            "Three tables have been created with following names \n",
            " 1. ipl_mathist \n",
            " 2. ipl_matbbb \n",
            " 3. ipl_matven\n",
            "Three DF have been fetched from database named as df_iplmat, df_iplbbb and df_iplven\n"
          ]
        }
      ]
    },
    {
      "cell_type": "code",
      "source": [
        "db.get_query8_result()"
      ],
      "metadata": {
        "colab": {
          "base_uri": "https://localhost:8080/"
        },
        "id": "Rg-Ez8jJWHKQ",
        "outputId": "a52b87ff-3a63-494d-8bd2-0f90a7d43e64"
      },
      "execution_count": 125,
      "outputs": [
        {
          "output_type": "stream",
          "name": "stdout",
          "text": [
            "Umpire  S Ravi  Officiated the maximum matches in IPL with a count of  121  matches in given timeline\n"
          ]
        }
      ]
    },
    {
      "cell_type": "code",
      "source": [
        ""
      ],
      "metadata": {
        "id": "siRMpJaFWxOn"
      },
      "execution_count": 125,
      "outputs": []
    }
  ]
}